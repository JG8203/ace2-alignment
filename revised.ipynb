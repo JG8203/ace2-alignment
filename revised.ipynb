{
 "cells": [
  {
   "cell_type": "markdown",
   "metadata": {},
   "source": [
    "# Global Alignment and Hierarchical Clustering of ACE2 Orthologs"
   ]
  },
  {
   "cell_type": "markdown",
   "metadata": {},
   "source": [
    "## Primary Authors:\n",
    "- Go, Daphne Janelyn\n",
    "- Gilo, Joshua\n",
    "- Lasala, Kyle Carlo"
   ]
  },
  {
   "cell_type": "markdown",
   "metadata": {},
   "source": [
    "## Objectives: \n",
    "To compare ACE2 orthologs by performing pairwise sequence alignments and computing a distance-based hierarchical clustering."
   ]
  },
  {
   "attachments": {},
   "cell_type": "markdown",
   "metadata": {},
   "source": [
    "# The Renin–Angiotensin–Aldosterone System (RAAS)\n",
    "## RAAS: Function and Biological Purpose\n",
    "The renin–angiotensin–aldosterone system (RAAS) is a hormonal signaling cascade that regulates blood pressure, fluid volume, and electrolyte balance in the body. It is a key homeostatic mechanism that activates when blood pressure is low to restore it [1].\n",
    "\n",
    "\n",
    "### The Classical Model of the RAAS Pathway\n",
    "A figure from [1] illustrating the classical view of the Renin-Angiotensin System is shown below:\n",
    "\n",
    "![RAAS](https://media.springernature.com/lw685/springer-static/image/art%3A10.1038%2Fs41371-020-00459-3/MediaObjects/41371_2020_459_Fig1_HTML.png?as=webp)\n",
    "\n",
    "1. **Renin**, an enzyme from the kidney, converts angiotensinogen (from the liver) into **angiotensin I**\n",
    "2. **Angiotensin-Coverting Enzyme (ACE)** then cleaves angiotensin I into **angiotensin II (Ang II)**\n",
    "3. **Angiotensin II** is the main effector of the RAAS. This binds to the **angiotensin type 1 receptor** to raise blood pressure by causing the narrowing of blood vessels, stimulating aldosterone release (promoting sodium and water retention), and by activating the sympathetic nervous system.\n",
    "\n",
    "The RAAS has two key pathways. The ACE pathway converts Ang I to Ang II, which binds to the AT1 receptor, raising blood pressure and promoting inflammation. In contrast, the ACE2 pathway converts Ang II into Ang-(1–7), which binds to the Mas receptor to lower blood pressure and reduce inflammation. The balance between these two pathways plays a crucial role in both acute and chronic diseases. Medications like ACE inhibitors and ARBs help by shifting the system toward the protective ACE2–Ang-(1–7) pathway [1][2].\n",
    "\n",
    "# ACE2 and COVID-19\n",
    "\n",
    "In 2003, ACE2 primarily gained more attention beyond its physiology when it was identified as the entry receptor for the SARS coronavirus (SARS-COV). This was also discovered during the first coronavirus epidemic caused by SARS-CoV. In 2020, during the COVID-19 pandemic, it was identified that **SARS-COV-2** also uses ACE2 as its mechanism of viral entry into human cells.  SARS-CoV-2 binds to ACE2 with a remarkably higher affinity, specifically 10–20-fold higher, compared to SARS-CoV. The ACE2 receptor is also primarily found on the epithelial tissue of the lungs [2].\n",
    "\n",
    "## Mechanism of Viral Entry\n",
    "Binding to the ACE2 receptor is only the first step in the viral entry process. As identified by Lan et al. (2020) [3], successful entry of SARS-CoV-2 also requires the cleavage of the viral Spike (S) protein by host cell proteases.\n",
    "\n",
    "1. Binding: The viral Spike (S) protein binds to the ACE2 receptor on the surface of the host cell.\n",
    "\n",
    "2. Priming Cleavage by Furin: During virus production, the Spike protein is cleaved at its furin cleavage site by the host enzyme furin, which prepares the virus for entry.\n",
    "\n",
    "3. Activation Cleavage at S2′ Site: After binding to ACE2, host cell proteases (e.g., TMPRSS2) cleave the Spike at the S2′ site, activating the Spike's fusion machinery.\n",
    "\n",
    "4. Membrane Fusion: The activated Spike exposes its fusion peptide, which inserts into the host cell membrane. A structural refolding follows, pulling  the viral and host membranes together and allowing the viral genome to enter the cytoplasm.\n",
    "\n",
    "\n",
    "# Working Question\n",
    "With the affinity of the SARS-CoV-2 Spike protein for human ACE2, we aim to analyze **which animal species are also susceptible to infection by SARS-CoV-2.** By analyzing the similarity between the ACE2 orthologs of various vertebrates and the human ACE2 protein, we can infer their potential as hosts for the virus. This python notebook aims to replicate the studies of Li et al (2020) [4] and Liu et al (2021) [5] using a subset of only 10 verterbrates.\n",
    "\n",
    "[1] Fountain JH, Kaur J, Lappin SL. Physiology, Renin Angiotensin System. [Updated 2023 Mar 12]. In: StatPearls. Treasure Island (FL): StatPearls Publishing; 2025 Jan-. Available from: https://www.ncbi.nlm.nih.gov/books/NBK470410/\n",
    "\n",
    "[2] Bhalla, V., Blish, C.A. & South, A.M. A historical perspective on ACE2 in the COVID-19 era. J Hum Hypertens 35, 935–939 (2021). https://doi.org/10.1038/s41371-020-00459-3\n",
    "\n",
    "[3] Lan, J., Ge, J., Yu, J. et al. Structure of the SARS-CoV-2 spike receptor-binding domain bound to the ACE2 receptor. Nature 581, 215–220 (2020). https://doi.org/10.1038/s41586-020-2180-5\n",
    "\n",
    "[4] Li Y, Wang H, Tang X, Fang S, Ma D, Du CWang Y, Pan HYao WZhang R, Zou X, Zheng J, Xu L, Farzan M, Zhong G 2020. SARS-CoV-2 and Three Related Coronaviruses Utilize Multiple ACE2 Orthologs and Are Potently Blocked by an Improved ACE2-Ig. J Virol 94:10.1128/jvi.01283-20.\n",
    "https://doi.org/10.1128/jvi.01283-20\n",
    "\n",
    "[5] Liu, Y., Hu, G., Wang, Y., Ren, W., Zhao, X., Ji, F., Zhu, Y., Feng, F., Gong, M., Ju, X., Zhu, Y., Cai, X., Lan, J., Guo, J., Xie, M., Dong, L., Zhu, Z., Na, J., Wu, J., Lan, X., … Ding, Q. (2021). Functional and genetic analysis of viral receptor ACE2 orthologs reveals a broad potential host range of SARS-CoV-2. Proceedings of the National Academy of Sciences of the United States of America, 118(12), e2025373118. https://doi.org/10.1073/pnas.2025373118"
   ]
  },
  {
   "cell_type": "markdown",
   "metadata": {},
   "source": [
    "## Prerequisites: Importing the libraries and downloading the necessary data."
   ]
  },
  {
   "cell_type": "code",
   "execution_count": 2,
   "metadata": {},
   "outputs": [],
   "source": [
    "import os\n",
    "import math\n",
    "import numpy as np\n",
    "import pathlib\n",
    "import seaborn as sns\n",
    "\n",
    "from Bio import Entrez\n",
    "from Bio import SeqIO\n",
    "from Bio.Align import PairwiseAligner, substitution_matrices\n",
    "from scipy.spatial.distance import squareform\n",
    "from scipy.cluster.hierarchy import linkage, dendrogram\n",
    "import matplotlib.pyplot as plt"
   ]
  },
  {
   "cell_type": "markdown",
   "metadata": {},
   "source": [
    "Organisms are retrieved from the supplementary data containing the accession numbers of the organisms analyzed by [1]. The list of accession numbers are shown in the following table. Only 11 verterbrates will be retrieved inclusive of the human ortholog.\n",
    "\n",
    "| ID | Species | Common Name | NCBI Accession |\n",
    "|:---|:---|:---|:---|\n",
    "| #1 | Homo sapiens | Human | NP_001358344.1 |\n",
    "| #2 | Pan troglodytes | Chimpanzee | XP_016798468.1 |\n",
    "| | Pan paniscus | Pygmy chimpanzee | XP_008972428.1 |\n",
    "| #3 | Gorilla gorilla gorilla | Western lowland gorilla | NP_018874749.1 |\n",
    "| #4 | Nomascus leucogenys | Northern white-cheeked gibbon | XP_003261132.2 |\n",
    "| #5 | Pongo abelii | Sumatran orangutan | NP_001124604.1 |\n",
    "| #6 | Macaca mulatta | Rhesus monkey | NP_001129168.1 |\n",
    "| | Macaca fascicularis | Crab-eating macaque | XP_005593094.1 |\n",
    "| | Macaca nemestrina | Pig-tailed macaque | XP_011733505.1 |\n",
    "| | Cercocebus atys | Sooty mangabey | XP_011891198.1 |\n",
    "| | Mandrillus leucophaeus | Drill | XP_011850923.1 |\n",
    "| #7 | Papio anubis | Olive baboon | XP_021788732.1 |\n",
    "| #8 | Theropithecus gelada | Gelada | XP_025227847.1 |\n",
    "| | Chlorocebus sabaeus | Green monkey | XP_007989304.1 |\n",
    "| #9 | Rhinopithecus roxellana | Golden snub-nosed monkey | XP_010364367.2 |\n",
    "| #10 | Piliocolobus tephrosceles | Ugandan red Colobus | XP_023054821.1 |\n",
    "| #11 | Callithrix jacchus | white-tufted-ear marmoset | XP_008987241.1 |\n",
    "| #12 | Sapajus apella | Tufted capuchin | XP_032141854.1 |\n",
    "| | Cebus capucinus imitator | White-headed Capuchin | XP_017367865.1 |\n",
    "| | Aotus nancymaae | Nancy Ma's Night Monkey | XP_012290105.1 |\n",
    "| #13 | Saimiri boliviensis boliviensis | Bolivian squirrel monkey | XP_010334925.1 |\n",
    "| | Propithecus coquereli | (Coquerel's sifaka)monkey | XP_012494185.1 |\n",
    "| #14 | Oryctolagus cuniculus | Rabbit | XP_002719891.1 |\n",
    "| | Ochotona princeps | American pika | XP_004597549.2 |\n",
    "| | Mesocricetus auratus | Golden hamster | XP_005074266.1 |\n",
    "| #15 | Cricetulus griseus | Chinese hamster | XP_003503283.1 |\n",
    "| #16 | Peromyscus leucopus | White-footed mouse | XP_028743609.1 |\n",
    "| | Peromyscus maniculatus bairdii | Prairie Deer Mouse | XP_006973269.1 |\n",
    "| #18 | Jaculus jaculus | Lesser Egyptian jerboa | XP_004671523.1 |\n",
    "| #19 | Ictidomys tridecemlineatus | Thirteen-lined ground squirrel | XP_005316051.3 |\n",
    "| #20 | Sus scrofa | Pig | NP_001116542.1 |\n",
    "| #21 | Globicephala melas | Long-finned pilot whale | XP_030703991.1 |\n",
    "| | Lagenorhynchus obliquidens | Pacific white-sided dolphin | XP_026951598.1 |\n",
    "| #22 | Orcinus orca | Killer whale | XP_004269705.1 |\n",
    "| #23 | Tursiops truncatus | Common bottlenose dolphin | XP_019781177.1 |\n",
    "| #24 | Delphinapterus leucas | Beluga whale | XP_022418360.1 |\n",
    "| | Monodon monoceros | Narwhal | XP_029095804.1 |\n",
    "| #25 | Neophocaena asiaeorientalis asiaeorientalis | Finless Porpoise | XP_024599894.1 |\n",
    "| #26 | Lipotes vexillifer | Yangtze River dolphin | XP_007466389.1 |\n",
    "| #27 | Physeter catodon | Sperm whale | XP_023971279.1 |\n",
    "| | Balaenoptera acutorostrata scammoni | Minke Whale | XP_028020351.1 |\n",
    "| #28 | Bos taurus | Cattle | XP_005228485.1 |\n",
    "| | Bos indicus | Bos taurus indicus | XP_019811719.1 |\n",
    "| | Bos indicus x Bos taurus | Hybrid cattle | XP_027389727.1 |\n",
    "| | Bison bison bison | American plain bison | XP_010833001.1 |\n",
    "| | Odocoileus virginianus texanus | White-tailed fawns | XP_020768965.1 |\n",
    "| #29 | Bos mutus | Wild yak | XP_005903173.1 |\n",
    "| #30 | Bubalus bubalis | Water buffalo | XP_006041602.1 |\n",
    "| #31 | Ovis aries | Sheep | XP_011961657.1 |\n",
    "| #32 | Capra hircus | Goat | NP_001277036.1 |\n",
    "| #33 | Rousettus aegyptiacus | Egyptian rousette | XP_015974412.1 |\n",
    "| | Vombatus ursinus | Common wombat | XP_027691156.1 |\n",
    "| #34 | Phascolarctos cinereus | Koala | XP_020863153.1 |\n",
    "| | Trichechus manatus latirostris | Florida manatee | XP_004386381.1 |\n",
    "| #35 | Equus caballus | Horse | XP_001490241.1 |\n",
    "| | Equus przewalskii | Przewalski's horse | XP_008542995.1 |\n",
    "| | Equus asinus | Ass | XP_014713133.1 |\n",
    "| #36 | Ceratotherium simum simum | Southern white rhinoceros | XP_004435206.1 |\n",
    "| #37 | Canis lupus familiaris | Dog | NP_001158732.1 |\n",
    "| | Canis lupus dingo | Dingo dog | XP_025292925.1 |\n",
    "| #38 | Vulpes vulpes | Red fox | XP_025842512.1 |\n",
    "| #39 | Ailuropoda melanoleuca | Giant panda | XP_002930657.1 |\n",
    "| | Ursus maritimus | Polar bear | XP_008694637.1 |\n",
    "| #40 | Ursus arctos horribilis | Bear | XP_026333865.1 |\n",
    "| #41 | Zalophus californianus | California sea lion | XP_027465353.1 |\n",
    "| #42 | Eumetopias jubatus | Steller sea lion | XP_027970822.1 |\n",
    "| | Callorhinus ursinus | Northern fur seal | XP_025713397.1 |\n",
    "| | Odobenus rosmarus divergens | Pacific walrus | XP_004415448.1 |\n",
    "| | Phoca vitulina | Harbor seal | XP_032245506.1 |\n",
    "| #43 | Neomonachus schauinslandi | Hawaiian monk seal | XP_021536480.1 |\n",
    "| #44 | Mustela putorius furo | Domestic ferret | NP_001297119.1 |\n",
    "| | Mustela erminea | Stoat | XP_032187677.1 |\n",
    "| | Enhydra lutris kenyoni | Sea Otter | XP_022374078.1 |\n",
    "| #45 | Felis catus | Domestic cat | XP_023104564.1 |\n",
    "| #46 | Lynx canadensis | Canada lynx | XP_030160839.1 |\n",
    "| #47 | Acinonyx jubatus | Cheetah | XP_026910297.1 |\n",
    "| | Puma concolor | Puma | XP_025790417.1 |\n",
    "| #48 | Panthera pardus | Leopard | XP_019273508.1 |\n",
    "| | Panthera tigris altaica | Amur tiger | XP_007090142.1 |\n",
    "| #49 | Manis javanica | Malayan pangolin | XP_017505746.1 |\n",
    "\n",
    "[1] Liu, Y., Hu, G., Wang, Y., Ren, W., Zhao, X., Ji, F., Zhu, Y., Feng, F., Gong, M., Ju, X., Zhu, Y., Cai, X., Lan, J., Guo, J., Xie, M., Dong, L., Zhu, Z., Na, J., Wu, J., Lan, X., … Ding, Q. (2021). Functional and genetic analysis of viral receptor ACE2 orthologs reveals a broad potential host range of SARS-CoV-2. Proceedings of the National Academy of Sciences of the United States of America, 118(12), e2025373118. https://doi.org/10.1073/pnas.2025373118"
   ]
  },
  {
   "cell_type": "markdown",
   "metadata": {},
   "source": [
    "### Download the ACE2 proteins of the selected organisms"
   ]
  },
  {
   "cell_type": "markdown",
   "metadata": {},
   "source": [
    "Selected Organisms along with the NCBI accession numbers"
   ]
  },
  {
   "cell_type": "code",
   "execution_count": 3,
   "metadata": {},
   "outputs": [],
   "source": [
    "accession_dict = {\n",
    "    \"Homo sapiens (Human)\": \"NP_001358344.1\",\n",
    "    \"Pan troglodytes (Chimpanzee)\": \"XP_016798468.1\",\n",
    "    \"Callithrix jacchus (Marmoset)\": \"XP_008987241.1\",\n",
    "    \"Felis catus (Cat)\": \"XP_023104564.1\",\n",
    "    \"Canis lupus familiaris (Dog)\": \"NP_001158732.1\",\n",
    "    \"Mustela putorius furo (ferret)\": \"NP_001297119.1\",\n",
    "    \"Rousettus aegyptiacus (Bat)\": \"XP_015974412.1\",\n",
    "    \"Manis javanica (Pangolin)\": \"XP_017505746.1\",\n",
    "    \"Sus scrofa (Pig)\": \"NP_001116542.1\",\n",
    "    \"Peromyscus leucopus(Mouse)\": \"XP_028743609.1\",\n",
    "    \"Bos taurus (Cattle)\": \"XP_005228485.1\",\n",
    "}"
   ]
  },
  {
   "cell_type": "markdown",
   "metadata": {},
   "source": [
    "Download the ACE2 protein sequences"
   ]
  },
  {
   "cell_type": "code",
   "execution_count": 4,
   "metadata": {},
   "outputs": [
    {
     "name": "stdout",
     "output_type": "stream",
     "text": [
      "Saved fasta file to ace2_orthologs.fasta\n"
     ]
    }
   ],
   "source": [
    "fasta_file = \"ace2_orthologs.fasta\"\n",
    "accession_vals = list(accession_dict.values())\n",
    "\n",
    "try:\n",
    "    handle = Entrez.efetch(db=\"protein\", id=accession_vals, rettype=\"fasta\", retmode=\"text\", email=\"abc@efg.com\")\n",
    "    data = handle.read()\n",
    "    handle.close()\n",
    "    pathlib.Path(fasta_file).write_text(data)\n",
    "    print(f\"Saved fasta file to {fasta_file}\")\n",
    "except Exception as e:\n",
    "    print(f\"Errror occured: {e}\")"
   ]
  },
  {
   "cell_type": "markdown",
   "metadata": {},
   "source": [
    "### Read the downloaded ACE2 protein sequences of the selected organisms"
   ]
  },
  {
   "cell_type": "code",
   "execution_count": 5,
   "metadata": {},
   "outputs": [
    {
     "name": "stdout",
     "output_type": "stream",
     "text": [
      ">>> Successfully loaded sequences from file. Verification:\n",
      "---------------------------------------------------------\n",
      "  - Homo sapiens (Human) (NP_001358344.1): 805 amino acids\n",
      "  - Pan troglodytes (Chimpanzee) (XP_016798468.1): 805 amino acids\n",
      "  - Callithrix jacchus (Marmoset) (XP_008987241.1): 805 amino acids\n",
      "  - Felis catus (Cat) (XP_023104564.1): 807 amino acids\n",
      "  - Canis lupus familiaris (Dog) (NP_001158732.1): 804 amino acids\n",
      "  - Mustela putorius furo (ferret) (NP_001297119.1): 805 amino acids\n",
      "  - Rousettus aegyptiacus (Bat) (XP_015974412.1): 805 amino acids\n",
      "  - Manis javanica (Pangolin) (XP_017505746.1): 805 amino acids\n",
      "  - Sus scrofa (Pig) (NP_001116542.1): 805 amino acids\n",
      "  - Peromyscus leucopus(Mouse) (XP_028743609.1): 805 amino acids\n",
      "  - Bos taurus (Cattle) (XP_005228485.1): 811 amino acids\n",
      "---------------------------------------------------------\n"
     ]
    }
   ],
   "source": [
    "fasta_filename = \"ace2_orthologs.fasta\"\n",
    "sequences_dict = {}\n",
    "try:\n",
    "    with open(fasta_filename, \"r\") as handle:\n",
    "        for record in SeqIO.parse(handle, \"fasta\"):\n",
    "            common_name = None\n",
    "            for name, acc in accession_dict.items():\n",
    "                if acc in record.id:\n",
    "                    common_name = name\n",
    "                    break\n",
    "            if common_name:\n",
    "                record.id = common_name\n",
    "                record.description = f\"{common_name} ACE2\"\n",
    "                sequences_dict[common_name] = record\n",
    "\n",
    "    print(\">>> Successfully loaded sequences from file. Verification:\")\n",
    "    print(\"---------------------------------------------------------\")\n",
    "    for name, record in sequences_dict.items():\n",
    "        print(f\"  - {name:<12} ({accession_dict[name]}): {len(record.seq)} amino acids\")\n",
    "    print(\"---------------------------------------------------------\")\n",
    "\n",
    "except FileNotFoundError:\n",
    "    print(f\"Error: The file '{fasta_filename}' was not found. Please run the download step again.\")"
   ]
  },
  {
   "cell_type": "markdown",
   "metadata": {},
   "source": [
    "## Pairwise Alignment using Needleman-Wunsch Algorithm"
   ]
  },
  {
   "cell_type": "markdown",
   "metadata": {},
   "source": [
    "#### BLOSUM62 as the Scoring System \n",
    "\n",
    "According to NCBI [1], BLOSUM62 is the best general scoring system for protein alignment. This corresponds to the empirical results of Altschul [2] and identifies that BLOSUM62 must use an affine gap penalty of 5 and 3 for open and extend, respectively.\n",
    "\n",
    "[1] NCBI (n.d.) *BLAST Scoring and Statistics.* https://www.nlm.nih.gov/ncbi/workshops/2023-08_BLAST_evol/blast_score.html\n",
    "\n",
    "[2] Altschul S.F. (2002) *Empirical determination of effective gap penalties for sequence comparison.* **Bioinformatics** 18 (11): 1500‑1507."
   ]
  },
  {
   "cell_type": "markdown",
   "metadata": {},
   "source": [
    "Construct the `aligner` object using the `PairwiseAligner` from the `Biopython` library. "
   ]
  },
  {
   "cell_type": "code",
   "execution_count": 6,
   "metadata": {},
   "outputs": [],
   "source": [
    "aligner = PairwiseAligner()\n",
    "aligner.mode = 'global'\n",
    "aligner.substitution_matrix = substitution_matrices.load(\"BLOSUM62\")\n",
    "aligner.open_gap_score = -5\n",
    "aligner.extend_gap_score = -3"
   ]
  },
  {
   "cell_type": "markdown",
   "metadata": {},
   "source": [
    "Function that compares the ACE2 protein sequences of Human to other organisms"
   ]
  },
  {
   "cell_type": "code",
   "execution_count": 7,
   "metadata": {},
   "outputs": [],
   "source": [
    "def get_best_alignment(aligner, seq1, seq2):\n",
    "    return aligner.align(seq1, seq2)[0]\n",
    "\n",
    "def extract_key_residues(aligned_human, aligned_other, key_positions):\n",
    "    ungapped_to_aln = [i for i, c in enumerate(aligned_human) if c != '-']\n",
    "    residues = {}\n",
    "    for pos in key_positions:\n",
    "        if pos - 1 < len(ungapped_to_aln):\n",
    "            aln_idx = ungapped_to_aln[pos - 1]\n",
    "            residues[pos] = aligned_other[aln_idx]\n",
    "        else:\n",
    "            residues[pos] = '-'\n",
    "    return residues\n",
    "\n",
    "def analyze_against_human(sequences, aligner, human_key, key_positions):\n",
    "    human_seq = sequences[human_key].seq\n",
    "    alignment_scores = {}\n",
    "    key_residues = {}\n",
    "    alignments_dict = {}\n",
    "\n",
    "    for name, record in sequences.items():\n",
    "        if name == human_key: \n",
    "            continue\n",
    "        aln = get_best_alignment(aligner, human_seq, record.seq)\n",
    "        alignments_dict[name] = aln\n",
    "        h_aln, o_aln = aln[0], aln[1]\n",
    "        alignment_scores[name] = aln.score\n",
    "        key_residues[name] = extract_key_residues(h_aln, o_aln, key_positions)\n",
    "\n",
    "    return alignment_scores, key_residues, alignments_dict"
   ]
  },
  {
   "cell_type": "markdown",
   "metadata": {},
   "source": [
    "Align the ACE2 protein sequences of Human to other organisms."
   ]
  },
  {
   "cell_type": "code",
   "execution_count": 8,
   "metadata": {},
   "outputs": [
    {
     "name": "stdout",
     "output_type": "stream",
     "text": [
      "All pairwise alignments complete\n"
     ]
    }
   ],
   "source": [
    "KEY_POSITIONS = [31, 35, 38, 41, 42, 82, 353]\n",
    "HUMAN_NAME = \"Homo sapiens (Human)\"\n",
    "alignment_scores, key_residues, alignments_dict = analyze_against_human(sequences_dict, aligner, HUMAN_NAME, KEY_POSITIONS)\n",
    "print(\"All pairwise alignments complete\")"
   ]
  },
  {
   "cell_type": "markdown",
   "metadata": {},
   "source": [
    "Alignment scores and identity"
   ]
  },
  {
   "cell_type": "code",
   "execution_count": 9,
   "metadata": {},
   "outputs": [
    {
     "name": "stdout",
     "output_type": "stream",
     "text": [
      "----------------------------------------\n",
      "Species                        |   Score \n",
      "----------------------------------------\n",
      "Pan troglodytes (Chimpanzee)   |  4253.0 \n",
      "Callithrix jacchus (Marmoset)  |  3957.0 \n",
      "Felis catus (Cat)              |  3697.0 \n",
      "Canis lupus familiaris (Dog)   |  3639.0 \n",
      "Mustela putorius furo (ferret) |  3629.0 \n",
      "Rousettus aegyptiacus (Bat)    |  3482.0 \n",
      "Manis javanica (Pangolin)      |  3679.0 \n",
      "Sus scrofa (Pig)               |  3567.0 \n",
      "Peromyscus leucopus(Mouse)     |  3633.0 \n",
      "Bos taurus (Cattle)            |  3441.0 \n",
      "Human                          |       - \n"
     ]
    }
   ],
   "source": [
    "print(\"-\" * 40)\n",
    "print(f\"{'Species':<30} | {'Score':>7} \")\n",
    "print(\"-\" * 40)\n",
    "\n",
    "for name, (score) in alignment_scores.items():\n",
    "    print(f\"{name:<30} | {score:7.1f} \")\n",
    "\n",
    "print(f\"{'Human':<30} | {'-':>7} \")"
   ]
  },
  {
   "cell_type": "markdown",
   "metadata": {},
   "source": [
    "### Significance of ACE2 Positions\n",
    "\n",
    "According to Liu et al. (2021) [1], ACE2 orthologs from the 295 species contain the relevant amino acid residues at positions 31, 35, 38, 82 and 353. These positions are critical for SARS-CoV-2 spike binding. These residues form two distinct virus-binding hotspots on the ACE2 protein: the 31K hotspot and the 353K hotspot, which provide a substantial amount of energy to the virus-receptor binding interactions.\n",
    "\n",
    "**Hotspot 31K**\n",
    "- Key residues: K31, E35, M82\n",
    "- This region forms a salt bridge between K31 and E35. A salt bridge is a type of non-covalent interaction that happens between two oppositely charged amino acids in a protein, which contribute to protein structure, and stability.\n",
    "- The 31K hotspot is further stabilized by Methionine (M) at position 82 of human ACE2. M82 achieves this stabilization through a hydrophobic interaction with Phenylalanine (F) at position 486 of the SARS-CoV-2 Receptor-Binding Domain (RBD).\n",
    "\n",
    "**Hotspot 353K**\n",
    "- Key residues: K353, D38\n",
    "- Located in a loop region of ACE2, K353 forms another salt bridge with D38\n",
    "\n",
    "Positions 41 and 42 were also of interest because they form critical hydrogen bonds with the SARS-CoV-2 spike protein.\n",
    "\n",
    "[1] Liu, Y., Hu, G., Wang, Y., Ren, W., Zhao, X., Ji, F., Zhu, Y., Feng, F., Gong, M., Ju, X., Zhu, Y., Cai, X., Lan, J., Guo, J., Xie, M., Dong, L., Zhu, Z., Na, J., Wu, J., Lan, X., … Ding, Q. (2021). Functional and genetic analysis of viral receptor ACE2 orthologs reveals a broad potential host range of SARS-CoV-2. Proceedings of the National Academy of Sciences of the United States of America, 118(12), e2025373118. https://doi.org/10.1073/pnas.2025373118"
   ]
  },
  {
   "cell_type": "markdown",
   "metadata": {},
   "source": [
    "### Key Residues"
   ]
  },
  {
   "cell_type": "code",
   "execution_count": 10,
   "metadata": {},
   "outputs": [
    {
     "name": "stdout",
     "output_type": "stream",
     "text": [
      "----------------------------------------------------------------------------------------------------\n",
      "Species                        |  Pos 31 |  Pos 35 |  Pos 38 |  Pos 41 |  Pos 42 |  Pos 82 | Pos 353\n",
      "----------------------------------------------------------------------------------------------------\n",
      "Pan troglodytes (Chimpanzee)   |       K |       E |       D |       Y |       Q |       M |       K\n",
      "Callithrix jacchus (Marmoset)  |       K |       E |       D |       H |       E |       T |       K\n",
      "Felis catus (Cat)              |       K |       E |       E |       Y |       Q |       T |       K\n",
      "Canis lupus familiaris (Dog)   |       K |       E |       E |       Y |       Q |       T |       K\n",
      "Mustela putorius furo (ferret) |       K |       E |       E |       Y |       Q |       T |       K\n",
      "Rousettus aegyptiacus (Bat)    |       K |       E |       D |       Y |       Q |       T |       K\n",
      "Manis javanica (Pangolin)      |       K |       E |       E |       Y |       Q |       N |       K\n",
      "Sus scrofa (Pig)               |       K |       E |       D |       Y |       Q |       T |       K\n",
      "Peromyscus leucopus(Mouse)     |       K |       E |       D |       Y |       Q |       N |       K\n",
      "Bos taurus (Cattle)            |       K |       E |       D |       Y |       Q |       T |       K\n",
      "Human                          |       K |       E |       D |       Y |       Q |       M |       K\n",
      "----------------------------------------------------------------------------------------------------\n"
     ]
    }
   ],
   "source": [
    "human_record = sequences_dict[HUMAN_NAME]\n",
    "print(\"-\" *100)\n",
    "print(f\"{'Species':<30} | {'Pos 31':>7} | {'Pos 35':>7} | {'Pos 38':>7} | {'Pos 41':>7} | {'Pos 42':>7} | {'Pos 82':>7} | {'Pos 353':>7}\")\n",
    "print(\"-\" * 100)\n",
    "\n",
    "for name, residues in key_residues.items():\n",
    "    print(f\"{name:<30}\"\n",
    "          + \"\".join(f\" | {residues.get(pos, '-'):>7}\" for pos in [31, 35, 38, 41, 42, 82, 353]))\n",
    "\n",
    "print(f\"{'Human':<30}\"\n",
    "      + f\" | {human_record.seq[30]:>7} | {human_record.seq[34]:>7} | {human_record.seq[37]:>7} | {human_record.seq[40]:>7}\"\n",
    "      + f\" | {human_record.seq[41]:>7} | {human_record.seq[81]:>7} | {human_record.seq[352]:>7}\")\n",
    "print(\"-\" * 100)"
   ]
  },
  {
   "cell_type": "markdown",
   "metadata": {},
   "source": [
    "Shang et al. (2020) [1] identified that the conservation of five key residues (31K/T, 35E/K, 38D/E, 82T/M/N, and 353K) in known susceptible species enables ACE2 orthologs to function as SARS-CoV-2 receptors. This set of residues provides a predictive framework that does not only account for exact matches to the human ACE2 sequence but also for functionally equivalent substitutions that allow viral binding and entry.\n",
    "\n",
    "Based on the table above, all 10 species examined conserve these five critical residues as identified by [1]. However, positions 41 and 42 are noted as positions of interest in [2]. \n",
    "\n",
    "In human ACE2, position 41 is occupied by Tyrosine (Y) and position 42 by Glutamine (Q). From Liu et al [2], New World monkey ACE2 orthologs (e.g., marmoset, tufted capuchin, squirrel monkey) have Histidine (H) at position 41 and Glutamic acid (E) at position 42. This is in line with what we observe in our analysis of marmoset at positions 41 and 42 with residues of H and E respectively. Substitutions at positions Y41 → H and Q42 → E were further identified to disrupt key hydrogen bonds with the viral spike protein. Their ACE proteins do not bind to SARS-CoV-2 S protein and do not promote virus entry. This is also in line with a recent finding that marmosets are resistant to SARS-CoV-2 infection [2].\n",
    "\n",
    "\n",
    "[1] J. Shang et al., Receptor recognition by the novel coronavirus from Wuhan: An analysis based on decade-long structural studies of SARS coronavirus. J. Virol. 94, e00127-20 (2020).\n",
    "\n",
    "[2] Liu, Y., Hu, G., Wang, Y., Ren, W., Zhao, X., Ji, F., Zhu, Y., Feng, F., Gong, M., Ju, X., Zhu, Y., Cai, X., Lan, J., Guo, J., Xie, M., Dong, L., Zhu, Z., Na, J., Wu, J., Lan, X., … Ding, Q. (2021). Functional and genetic analysis of viral receptor ACE2 orthologs reveals a broad potential host range of SARS-CoV-2. Proceedings of the National Academy of Sciences of the United States of America, 118(12), e2025373118. https://doi.org/10.1073/pnas.2025373118"
   ]
  },
  {
   "cell_type": "markdown",
   "metadata": {},
   "source": [
    "### p-distance\n",
    "\n",
    "The p-distance is the proportion of different amino acids between two sequences compared. The p-distance is defined as:\n",
    "\n",
    "$$\n",
    "p = n_d/n\n",
    "$$\n",
    "\n",
    "where $n_d$ and $n$ are the number of amino acid differences and the total number of amino acids compared, respectively. *Note that gap-columns are skipped or ignored.*"
   ]
  },
  {
   "cell_type": "markdown",
   "metadata": {},
   "source": [
    "Function that computes the p-distance"
   ]
  },
  {
   "cell_type": "code",
   "execution_count": 11,
   "metadata": {},
   "outputs": [],
   "source": [
    "def compute_p_distance(seq1, seq2):\n",
    "    mismatches = 0\n",
    "    aligned_len_no_gaps = 0\n",
    "    for i in range(len(seq1)):\n",
    "        if seq1[i] != '-' and seq2[i] != '-':\n",
    "            aligned_len_no_gaps += 1\n",
    "            if seq1[i] != seq2[i]:\n",
    "                mismatches += 1\n",
    "    \n",
    "    if aligned_len_no_gaps == 0:\n",
    "        return 0.0\n",
    "\n",
    "    # p-distance is the proportion of non-identical sites\n",
    "    p_dist = mismatches / aligned_len_no_gaps\n",
    "    return p_dist"
   ]
  },
  {
   "cell_type": "markdown",
   "metadata": {},
   "source": [
    "Print the computed p-distance"
   ]
  },
  {
   "cell_type": "code",
   "execution_count": 12,
   "metadata": {},
   "outputs": [
    {
     "name": "stdout",
     "output_type": "stream",
     "text": [
      "--------------------------------------------------\n",
      "Species                        | p-distance\n",
      "--------------------------------------------------\n",
      "Pan troglodytes (Chimpanzee)   |     0.0099\n",
      "Callithrix jacchus (Marmoset)  |     0.0832\n",
      "Felis catus (Cat)              |     0.1516\n",
      "Canis lupus familiaris (Dog)   |     0.1642\n",
      "Mustela putorius furo (ferret) |     0.1716\n",
      "Rousettus aegyptiacus (Bat)    |     0.2112\n",
      "Manis javanica (Pangolin)      |     0.1516\n",
      "Sus scrofa (Pig)               |     0.1863\n",
      "Peromyscus leucopus(Mouse)     |     0.1689\n",
      "Bos taurus (Cattle)            |     0.2045\n"
     ]
    }
   ],
   "source": [
    "species_names = list(sequences_dict.keys())\n",
    "num_species = len(species_names)\n",
    "\n",
    "print(\"-\" * 50)\n",
    "print(f\"{'Species':<30} | {'p-distance':>10}\")\n",
    "print(\"-\" * 50)\n",
    "\n",
    "for species in species_names:\n",
    "    if species == \"Homo sapiens (Human)\":\n",
    "        continue\n",
    "    # aligned sequences from the alignment Human vs species\n",
    "    aligned_human = alignments_dict[species][0]\n",
    "    aligned_other = alignments_dict[species][1]\n",
    "\n",
    "    p_dist = compute_p_distance(aligned_human, aligned_other)\n",
    "    print(f\"{species:<30} | {p_dist:10.4f}\")"
   ]
  },
  {
   "cell_type": "markdown",
   "metadata": {},
   "source": [
    "### Poisson-correction distance\n",
    "This distance is for estimating the number of amino acid substitutions per site under the assumption that the number of amino acid substitutions at each site follows the Poisson distribution. According to Nei et al. (2006) [1], it is defined as:\n",
    "\n",
    "$$-\\ln(1-p)$$\n",
    "\n",
    "where $p$ is the p-distance. The basic p-distance is simply the proportion of amino acids that differ between two sequences. This assumes that each difference is a single mutation and that sites haven't mutated more than once. However, as sequences diverge more, this assumption breaks down. Which means as evolution happens, some positions might mutate multiple times, which the p-distance cannot detect. This means the p-distance tends to **underestimate** the true evolutionary distance when divergence is high.\n",
    "\n",
    "The **poisson correction** corrects this by assuming that the mutations follow a Poisson process. It provides a better estimate, taking into account how many times a mutation has happened over the sequence's lifetime. The formula comes from the Poisson probability of zero changes at a site $P(\\text{no mutations}) = e^{-\\lambda t}$. If $p$ is the p-distance, then $1–p$ is the fraction of site that is unchanged, then $e^{-\\lambda t}=1-p$. This leads to the formula $–\\ln(1–p)$ which estimates the average number of substitutions per site accomodating the evolution. The corrected distance d will always be $\\geq p$, and grows larger than $p$ as $p$ increases. \n",
    "\n",
    "[1] Nei, M. and Zhang, J. (2006). Evolutionary Distance: Estimation. In eLS, John Wiley & Sons, Ltd (Ed.). https://doi.org/10.1038/npg.els.0005108"
   ]
  },
  {
   "cell_type": "markdown",
   "metadata": {},
   "source": [
    "Function that computes the Poisson-corrected distance"
   ]
  },
  {
   "cell_type": "code",
   "execution_count": 13,
   "metadata": {},
   "outputs": [],
   "source": [
    "def compute_poisson_distance(seq1, seq2):\n",
    "    p_dist = compute_p_distance(seq1, seq2)\n",
    "    if p_dist >= 1.0:\n",
    "        return float('inf')  # Avoid log(0) or negative values\n",
    "    return -math.log(1 - p_dist)"
   ]
  },
  {
   "cell_type": "markdown",
   "metadata": {},
   "source": [
    "Print the Poisson-corrected distance for each organisms"
   ]
  },
  {
   "cell_type": "code",
   "execution_count": 14,
   "metadata": {},
   "outputs": [
    {
     "name": "stdout",
     "output_type": "stream",
     "text": [
      "--------------------------------------------------\n",
      "Species                        | poisson-distance\n",
      "--------------------------------------------------\n",
      "Pan troglodytes (Chimpanzee)   |     0.0100\n",
      "Callithrix jacchus (Marmoset)  |     0.0869\n",
      "Felis catus (Cat)              |     0.1643\n",
      "Canis lupus familiaris (Dog)   |     0.1793\n",
      "Mustela putorius furo (ferret) |     0.1883\n",
      "Rousettus aegyptiacus (Bat)    |     0.2372\n",
      "Manis javanica (Pangolin)      |     0.1643\n",
      "Sus scrofa (Pig)               |     0.2062\n",
      "Peromyscus leucopus(Mouse)     |     0.1851\n",
      "Bos taurus (Cattle)            |     0.2288\n"
     ]
    }
   ],
   "source": [
    "species_names = list(sequences_dict.keys())\n",
    "num_species = len(species_names)\n",
    "\n",
    "print(\"-\" * 50)\n",
    "print(f\"{'Species':<30} | {'poisson-distance':>10}\")\n",
    "print(\"-\" * 50)\n",
    "\n",
    "for species in species_names:\n",
    "    if species == \"Homo sapiens (Human)\":\n",
    "        continue\n",
    "    aligned_human = alignments_dict[species][0]\n",
    "    aligned_other = alignments_dict[species][1]\n",
    "\n",
    "    p_dist = compute_poisson_distance(aligned_human, aligned_other)\n",
    "    print(f\"{species:<30} | {p_dist:10.4f}\")"
   ]
  },
  {
   "cell_type": "markdown",
   "metadata": {},
   "source": [
    "## Hierarchical Clustering of the Selected Organisms"
   ]
  },
  {
   "cell_type": "markdown",
   "metadata": {},
   "source": [
    "### Unweighted Pair Group Method with Arithmetic Mean (UPGMA)\n",
    "UPGMA is a method of constructing a dendrogram. The step-by-step is as follows:\n",
    "1. Construct the full matrix $$P = [p_{ij}]$$ where each element $p_{ij}$ represents the Poisson-corrected distance between organism $i$ and $j$. Note that $p_{ij}=0$ when $i=j$, and $p_{ij}=p_{ji}$.\n",
    "2. Find the pair of $(i,j)=(j,i)$ that is $\\min(p_{ij})=\\min(p_{ji})$ of $P$.\n",
    "3. Merge the pair of ${(i,j),(j,i)}$. This becomes a node in the tree and a new cluster.\n",
    "4. Update the distance matrix. Let $i$ and $j$ be the merged cluster (organisms), then $$ d_{(i,j),k}=\\frac{d_{(i,k)}+d_{(j,k)}}{2} $$\n",
    "5. Repeat the steps 2-4 until one cluster (tree root) remains.\n",
    "\n",
    "The UPGMA is applied in this notebook using the methods from the `scipy` library."
   ]
  },
  {
   "cell_type": "markdown",
   "metadata": {},
   "source": [
    "Construct the full matrix"
   ]
  },
  {
   "cell_type": "code",
   "execution_count": 15,
   "metadata": {},
   "outputs": [],
   "source": [
    "distances = np.zeros((num_species, num_species))  # initialize full matrix\n",
    "\n",
    "for i in range(num_species):\n",
    "    for j in range(i):  # only compute for lower triangle\n",
    "        species1 = species_names[i]\n",
    "        species2 = species_names[j]\n",
    "\n",
    "        record1 = sequences_dict[species1]\n",
    "        record2 = sequences_dict[species2]\n",
    "\n",
    "        alignment = aligner.align(record1.seq, record2.seq)[0]\n",
    "        corrected_distance = compute_poisson_distance(alignment[0], alignment[1])\n",
    "\n",
    "        distances[i][j] = corrected_distance\n",
    "        distances[j][i] = corrected_distance  # mirror"
   ]
  },
  {
   "cell_type": "markdown",
   "metadata": {},
   "source": [
    "Flatten the matrix"
   ]
  },
  {
   "cell_type": "code",
   "execution_count": 16,
   "metadata": {},
   "outputs": [],
   "source": [
    "condensed = squareform(distances)"
   ]
  },
  {
   "cell_type": "markdown",
   "metadata": {},
   "source": [
    "Compute the linkage of each cluster and plot the dendrogram"
   ]
  },
  {
   "cell_type": "code",
   "execution_count": 17,
   "metadata": {},
   "outputs": [
    {
     "data": {
      "image/png": "[encoded data removed]",
      "text/plain": [
       "<Figure size 1000x500 with 1 Axes>"
      ]
     },
     "metadata": {},
     "output_type": "display_data"
    }
   ],
   "source": [
    "linkage_matrix = linkage(condensed, method='average')  # UPGMA\n",
    "\n",
    "plt.figure(figsize=(10, 5))\n",
    "dendrogram(linkage_matrix, labels=species_names, leaf_rotation=90)\n",
    "plt.title(\"Dendrogram from poisson-distance (UPGMA)\")\n",
    "plt.ylabel(\"poisson-distance\")\n",
    "plt.tight_layout()\n",
    "plt.show()"
   ]
  },
  {
   "cell_type": "markdown",
   "metadata": {},
   "source": [
    "Print the computed average Poisson corrected distance in a Hierarchy"
   ]
  },
  {
   "cell_type": "code",
   "execution_count": 18,
   "metadata": {},
   "outputs": [
    {
     "name": "stdout",
     "output_type": "stream",
     "text": [
      "Cluster 1: Homo sapiens (Human)\n",
      "Cluster 2: Pan troglodytes (Chimpanzee)\n",
      "Poisson-Corrected Distance: 0.009987598628348306\n",
      "\n",
      "Cluster 1: Callithrix jacchus (Marmoset)\n",
      "Cluster 2: Homo sapiens (Human) & Pan troglodytes (Chimpanzee)\n",
      "Poisson-Corrected Distance: 0.08757641902365881\n",
      "\n",
      "Cluster 1: Felis catus (Cat)\n",
      "Cluster 2: Canis lupus familiaris (Dog)\n",
      "Poisson-Corrected Distance: 0.10204925435417023\n",
      "\n",
      "Cluster 1: Mustela putorius furo (ferret)\n",
      "Cluster 2: Felis catus (Cat) & Canis lupus familiaris (Dog)\n",
      "Poisson-Corrected Distance: 0.11097052579576702\n",
      "\n",
      "Cluster 1: Manis javanica (Pangolin)\n",
      "Cluster 2: Mustela putorius furo (ferret) & Felis catus (Cat) & Canis lupus familiaris (Dog)\n",
      "Poisson-Corrected Distance: 0.13995278099852798\n",
      "\n",
      "Cluster 1: Sus scrofa (Pig)\n",
      "Cluster 2: Bos taurus (Cattle)\n",
      "Poisson-Corrected Distance: 0.1620789500230524\n",
      "\n",
      "Cluster 1: Callithrix jacchus (Marmoset) & Homo sapiens (Human) & Pan troglodytes (Chimpanzee)\n",
      "Cluster 2: Manis javanica (Pangolin) & Mustela putorius furo (ferret) & Felis catus (Cat) & Canis lupus familiaris (Dog)\n",
      "Poisson-Corrected Distance: 0.18094685529132434\n",
      "\n",
      "Cluster 1: Peromyscus leucopus(Mouse)\n",
      "Cluster 2: Callithrix jacchus (Marmoset) & Homo sapiens (Human) & Pan troglodytes (Chimpanzee) & Manis javanica (Pangolin) & Mustela putorius furo (ferret) & Felis catus (Cat) & Canis lupus familiaris (Dog)\n",
      "Poisson-Corrected Distance: 0.19425749434181774\n",
      "\n",
      "Cluster 1: Sus scrofa (Pig) & Bos taurus (Cattle)\n",
      "Cluster 2: Peromyscus leucopus(Mouse) & Callithrix jacchus (Marmoset) & Homo sapiens (Human) & Pan troglodytes (Chimpanzee) & Manis javanica (Pangolin) & Mustela putorius furo (ferret) & Felis catus (Cat) & Canis lupus familiaris (Dog)\n",
      "Poisson-Corrected Distance: 0.21247596518654033\n",
      "\n",
      "Cluster 1: Rousettus aegyptiacus (Bat)\n",
      "Cluster 2: Sus scrofa (Pig) & Bos taurus (Cattle) & Peromyscus leucopus(Mouse) & Callithrix jacchus (Marmoset) & Homo sapiens (Human) & Pan troglodytes (Chimpanzee) & Manis javanica (Pangolin) & Mustela putorius furo (ferret) & Felis catus (Cat) & Canis lupus familiaris (Dog)\n",
      "Poisson-Corrected Distance: 0.23310767317721504\n",
      "\n"
     ]
    }
   ],
   "source": [
    "cluster_names = species_names\n",
    "for each in linkage_matrix:\n",
    "    org_1 = int(each[0])\n",
    "    org_2 = int(each[1])\n",
    "    score = each[2]\n",
    "    cluster_names.append(f\"{species_names[org_1]} & {species_names[org_2]}\")\n",
    "    print(\"Cluster 1:\", species_names[org_1])\n",
    "    print(\"Cluster 2:\", species_names[org_2])\n",
    "    print(\"Poisson-Corrected Distance:\", score)\n",
    "    print()"
   ]
  },
  {
   "cell_type": "markdown",
   "metadata": {},
   "source": [
    "### Dendrogram Analysis\n",
    "\n",
    "The dendrogram was constructed based on the Poisson-corrected p-distances of the ACE2 orthologs among various species. In this context, shorter branch lengths represent greater sequence similarity, indicating a closer genetic relationship.\n",
    "\n",
    "Notably, Homo sapiens (human) and Pan troglodytes (chimpanzee) exhibit an exceptionally close relationship, with a Poisson-corrected distance of only 0.0099, reflecting minimal divergence in their ACE2 sequences. This human–chimpanzee cluster is then most closely related to Callithrix jacchus (marmoset), with a distance of 0.0875, indicating a broader but still relatively close evolutionary relationship among these primates.\n",
    "\n",
    "A separate cluster is formed by Felis catus (cat) and Canis lupus familiaris (dog), which show moderate ACE2 similarity with a distance of 0.1020. This pair is further joined by Mustela putorius furo (ferret), forming a broader carnivore cluster at a distance of 0.1110. Subsequently, Manis javanica (pangolin) merges with this carnivore group at a distance of 0.1400, suggesting a more distant but still related ACE2 sequence.\n",
    "\n",
    "The ungulates, Sus scrofa (pig) and Bos taurus (cattle), form a distinct cluster with a Poisson-corrected distance of 0.1621, reflecting their closer evolutionary relationship within Artiodactyla.\n",
    "\n",
    "As the tree expands, the primate cluster (marmoset, human, and chimpanzee) merges with the carnivore–pangolin group at a distance of 0.1809, indicating a more ancient common ancestry among these eutherian mammals. This combined group is then joined by Peromyscus leucopus (mouse) at a distance of 0.1943, followed by the addition of the pig–cattle cluster at 0.2125.\n",
    "\n",
    "Finally, Rousettus aegyptiacus (bat) appears as the most evolutionarily distant species in the dendrogram, joining the rest of the taxa at a Poisson-corrected distance of 0.2331. This highlights the divergence of bat ACE2 sequences from those of the other mammals analyzed, possibly reflecting adaptations unique to Chiroptera or functional differences in ACE2 relevant to species-specific viral entry.\n",
    "\n",
    "Overall, the dendrogram not only reflects well-established evolutionary relationships among these mammals but also offers insights into ACE2 sequence conservation and divergence, which may have implications for host susceptibility to ACE2-binding viruses such as SARS-CoV-2."
   ]
  }
 ],
 "metadata": {
  "kernelspec": {
   "display_name": "Python 3",
   "language": "python",
   "name": "python3"
  },
  "language_info": {
   "codemirror_mode": {
    "name": "ipython",
    "version": 3
   },
   "file_extension": ".py",
   "mimetype": "text/x-python",
   "name": "python",
   "nbconvert_exporter": "python",
   "pygments_lexer": "ipython3",
   "version": "3.12.3"
  }
 },
 "nbformat": 4,
 "nbformat_minor": 4
}
