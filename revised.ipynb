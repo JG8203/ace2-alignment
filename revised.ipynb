{
 "cells": [
  {
   "attachments": {},
   "cell_type": "markdown",
   "metadata": {},
   "source": [
    "# The Renin–Angiotensin–Aldosterone System (RAAS)\n",
    "## RAAS: Function and Biological Purpose\n",
    "The renin–angiotensin–aldosterone system (RAAS) is a hormonal signaling cascade that regulates blood pressure, fluid volume, and electrolyte balance in the body. It is a key homeostatic mechanism that activates when blood pressure is low to restore it.\n",
    "\n",
    "### The Classical Model of the RAAS Pathway\n",
    "![RAAS](https://media.springernature.com/lw685/springer-static/image/art%3A10.1038%2Fs41371-020-00459-3/MediaObjects/41371_2020_459_Fig1_HTML.png?as=webp)\n",
    "1. **Renin**, an enzyme from the kidney, converts angiotensinogen (from the liver) into **angiotensin I**\n",
    "2. **Angiotensin-Coverting Enzyme (ACE)** then cleaves angiotensin I into **angiotensin II (Ang II)**\n",
    "3. **Angiotensin II** is the main effector of the RAAS. This binds to the **angiotensin type 1 receptor** to raise blood pressure by causing the narrowing of blood vessels, stimulating aldosterone release (promoting sodium and water retention), and by activating the sympathetic nervous system.\n",
    "\n",
    "However, overactivation of the RAAS system could lead to pro-inflammatory and pro-fibrotic (scarring) effects. The excessive activity of Ang II has been implicated in the following:\n",
    "1. Hypertension\n",
    "2. Heart Failure\n",
    "3. Chronic Kidney Disease\n",
    "4. Cardiovascular remodeling and organ damage\n",
    "\n",
    "Medications such as ACE inhibitors and ARBs are fundamental for the treatment of these conditions. However, it was also discovered that RAAS isn't a single pathway but a system of \"competing\" pathways. This was described as a **\"pressor\" arm** driven by ACE and a **\"protective\" arm** driven by ACE2.\n",
    "\n",
    "ACE2 was discovered in 2000 as a homolog of ACE (~60% similarity). The most important reaction catalyzed by ACE2 is the conversion of Ang II into **Ang 1-7**. Ang 1-7 binds to Mas and MrgD receptors, causing vasodilation, smooth muscle relaxation, and lowering pressure in the kidneys.\n",
    "\n",
    "# ACE2 and COVID-19\n",
    "\n",
    "In 2003, ACE2 primarily gained more attention beyond its physiology when it was identified as the entry receptor for the SARS coronavirus (SARS-COV). Seventeen years later, a new coronavirus **SARS-COV-2** also uses ACE2 as its gateway into human cells. In fact , the virus has evolved to bind ACE2 with remarkable affinity. This affinity was quantified 10-20 times hgiher than that of the 2003 SARS-CoV spike for ACE2. It should also be noted that the ACE2 receptor is primarily found on the epithelial tissue of the lungs (cite: Human Protein Atlas)\n",
    "\n",
    "## Mechanism of Viral Entry\n",
    "Binding is only the first step. The entry of the virus into the host cells also requires the cleavage of the viral Spike protein by host proteases.\n",
    "1. The viral Spike binds to the ACE2 receptor on the host cell surface.\n",
    "2. The spike protein is cleaved by the host cell's proteases. The SARS-CoV-2 Spike has a furin cleavage site. This site is cleaved by furin during virus production, which makes the virus more efficient in infecting the host cell.\n",
    "3. Then after binding to ACE2, the host proteases make a final cut at the S2' site. This activates the Spike's fusion machinery.\n",
    "4. Finally, the Spike's fusion peptide is unleashed into the host cell membrane, refolding into a more stable state, pulling the viral and cellular membranes together which lets it enter the cytoplasm.\n",
    "\n",
    "# Working Question\n",
    "Due to the afforementioned affinity of the SARS-CoV-2 Spike protein for human ACE2, we aim to analyze **which animal species are also suscpetible to infection by SARS-CoV-2.** By analyzing the similarity between the ACE2 orthologs of various vertebrates and the human ACE2 protein, we can infer their potential as hosts for the virus. This python notebook aims to replicate the study made by Liu et. al wherein they tested 48 different ACE2 orthologs and found that 44 of them could succesfully bind the SARS-CoV-2 Spike protein and support viral entry into cells. Furthermore, another study by the same authors also studied the host range for SARS-CoV, a bat CoV and pangolin CoV in the hopes of developing a potential treatment for these viruses.\n",
    "\n",
    "[1] Fountain JH, Kaur J, Lappin SL. Physiology, Renin Angiotensin System. [Updated 2023 Mar 12]. In: StatPearls [Internet]. Treasure Island (FL): StatPearls Publishing; 2025 Jan-. Available from: https://www.ncbi.nlm.nih.gov/books/NBK470410/\n",
    "\n",
    "[2] Bhalla, V., Blish, C.A. & South, A.M. A historical perspective on ACE2 in the COVID-19 era. J Hum Hypertens 35, 935–939 (2021). https://doi.org/10.1038/s41371-020-00459-3\n",
    "\n",
    "[3] Lan, J., Ge, J., Yu, J. et al. Structure of the SARS-CoV-2 spike receptor-binding domain bound to the ACE2 receptor. Nature 581, 215–220 (2020). https://doi.org/10.1038/s41586-020-2180-5\n",
    "\n",
    "[4] Li Y, Wang H, Tang X, Fang S, Ma D, Du CWang Y, Pan HYao WZhang R, Zou X, Zheng J, Xu L, Farzan M, Zhong G 2020. SARS-CoV-2 and Three Related Coronaviruses Utilize Multiple ACE2 Orthologs and Are Potently Blocked by an Improved ACE2-Ig. J Virol 94:10.1128/jvi.01283-20.\n",
    "https://doi.org/10.1128/jvi.01283-20"
   ]
  },
  {
   "cell_type": "code",
   "execution_count": 2,
   "metadata": {},
   "outputs": [],
   "source": [
    "import os\n",
    "import math\n",
    "import numpy as np\n",
    "import pathlib\n",
    "\n",
    "from Bio import Entrez\n",
    "from Bio import SeqIO\n",
    "from Bio.Align import PairwiseAligner, substitution_matrices\n",
    "from scipy.spatial.distance import squareform\n",
    "from scipy.cluster.hierarchy import linkage, dendrogram\n",
    "import matplotlib.pyplot as plt\n"
   ]
  },
  {
   "cell_type": "markdown",
   "metadata": {},
   "source": [
    "Organisms are retrieved from Functional and genetic analysis of viral receptor ACE2 orthologs reveals a broad potential host range\n",
    "of SARS-CoV-2 paper. List of accession numbers are shown as follows. Only 11 will be retrieved inclusive of Human ortholog.\n",
    "\n",
    "| ID | Species | Common Name | NCBI Accession |\n",
    "|:---|:---|:---|:---|\n",
    "| #1 | Homo sapiens | Human | NP_001358344.1 |\n",
    "| #2 | Pan troglodytes | Chimpanzee | XP_016798468.1 |\n",
    "| | Pan paniscus | Pygmy chimpanzee | XP_008972428.1 |\n",
    "| #3 | Gorilla gorilla gorilla | Western lowland gorilla | NP_018874749.1 |\n",
    "| #4 | Nomascus leucogenys | Northern white-cheeked gibbon | XP_003261132.2 |\n",
    "| #5 | Pongo abelii | Sumatran orangutan | NP_001124604.1 |\n",
    "| #6 | Macaca mulatta | Rhesus monkey | NP_001129168.1 |\n",
    "| | Macaca fascicularis | Crab-eating macaque | XP_005593094.1 |\n",
    "| | Macaca nemestrina | Pig-tailed macaque | XP_011733505.1 |\n",
    "| | Cercocebus atys | Sooty mangabey | XP_011891198.1 |\n",
    "| | Mandrillus leucophaeus | Drill | XP_011850923.1 |\n",
    "| #7 | Papio anubis | Olive baboon | XP_021788732.1 |\n",
    "| #8 | Theropithecus gelada | Gelada | XP_025227847.1 |\n",
    "| | Chlorocebus sabaeus | Green monkey | XP_007989304.1 |\n",
    "| #9 | Rhinopithecus roxellana | Golden snub-nosed monkey | XP_010364367.2 |\n",
    "| #10 | Piliocolobus tephrosceles | Ugandan red Colobus | XP_023054821.1 |\n",
    "| #11 | Callithrix jacchus | white-tufted-ear marmoset | XP_008987241.1 |\n",
    "| #12 | Sapajus apella | Tufted capuchin | XP_032141854.1 |\n",
    "| | Cebus capucinus imitator | White-headed Capuchin | XP_017367865.1 |\n",
    "| | Aotus nancymaae | Nancy Ma's Night Monkey | XP_012290105.1 |\n",
    "| #13 | Saimiri boliviensis boliviensis | Bolivian squirrel monkey | XP_010334925.1 |\n",
    "| | Propithecus coquereli | (Coquerel's sifaka)monkey | XP_012494185.1 |\n",
    "| #14 | Oryctolagus cuniculus | Rabbit | XP_002719891.1 |\n",
    "| | Ochotona princeps | American pika | XP_004597549.2 |\n",
    "| | Mesocricetus auratus | Golden hamster | XP_005074266.1 |\n",
    "| #15 | Cricetulus griseus | Chinese hamster | XP_003503283.1 |\n",
    "| #16 | Peromyscus leucopus | White-footed mouse | XP_028743609.1 |\n",
    "| | Peromyscus maniculatus bairdii | Prairie Deer Mouse | XP_006973269.1 |\n",
    "| #18 | Jaculus jaculus | Lesser Egyptian jerboa | XP_004671523.1 |\n",
    "| #19 | Ictidomys tridecemlineatus | Thirteen-lined ground squirrel | XP_005316051.3 |\n",
    "| #20 | Sus scrofa | Pig | NP_001116542.1 |\n",
    "| #21 | Globicephala melas | Long-finned pilot whale | XP_030703991.1 |\n",
    "| | Lagenorhynchus obliquidens | Pacific white-sided dolphin | XP_026951598.1 |\n",
    "| #22 | Orcinus orca | Killer whale | XP_004269705.1 |\n",
    "| #23 | Tursiops truncatus | Common bottlenose dolphin | XP_019781177.1 |\n",
    "| #24 | Delphinapterus leucas | Beluga whale | XP_022418360.1 |\n",
    "| | Monodon monoceros | Narwhal | XP_029095804.1 |\n",
    "| #25 | Neophocaena asiaeorientalis asiaeorientalis | Finless Porpoise | XP_024599894.1 |\n",
    "| #26 | Lipotes vexillifer | Yangtze River dolphin | XP_007466389.1 |\n",
    "| #27 | Physeter catodon | Sperm whale | XP_023971279.1 |\n",
    "| | Balaenoptera acutorostrata scammoni | Minke Whale | XP_028020351.1 |\n",
    "| #28 | Bos taurus | Cattle | XP_005228485.1 |\n",
    "| | Bos indicus | Bos taurus indicus | XP_019811719.1 |\n",
    "| | Bos indicus x Bos taurus | Hybrid cattle | XP_027389727.1 |\n",
    "| | Bison bison bison | American plain bison | XP_010833001.1 |\n",
    "| | Odocoileus virginianus texanus | White-tailed fawns | XP_020768965.1 |\n",
    "| #29 | Bos mutus | Wild yak | XP_005903173.1 |\n",
    "| #30 | Bubalus bubalis | Water buffalo | XP_006041602.1 |\n",
    "| #31 | Ovis aries | Sheep | XP_011961657.1 |\n",
    "| #32 | Capra hircus | Goat | NP_001277036.1 |\n",
    "| #33 | Rousettus aegyptiacus | Egyptian rousette | XP_015974412.1 |\n",
    "| | Vombatus ursinus | Common wombat | XP_027691156.1 |\n",
    "| #34 | Phascolarctos cinereus | Koala | XP_020863153.1 |\n",
    "| | Trichechus manatus latirostris | Florida manatee | XP_004386381.1 |\n",
    "| #35 | Equus caballus | Horse | XP_001490241.1 |\n",
    "| | Equus przewalskii | Przewalski's horse | XP_008542995.1 |\n",
    "| | Equus asinus | Ass | XP_014713133.1 |\n",
    "| #36 | Ceratotherium simum simum | Southern white rhinoceros | XP_004435206.1 |\n",
    "| #37 | Canis lupus familiaris | Dog | NP_001158732.1 |\n",
    "| | Canis lupus dingo | Dingo dog | XP_025292925.1 |\n",
    "| #38 | Vulpes vulpes | Red fox | XP_025842512.1 |\n",
    "| #39 | Ailuropoda melanoleuca | Giant panda | XP_002930657.1 |\n",
    "| | Ursus maritimus | Polar bear | XP_008694637.1 |\n",
    "| #40 | Ursus arctos horribilis | Bear | XP_026333865.1 |\n",
    "| #41 | Zalophus californianus | California sea lion | XP_027465353.1 |\n",
    "| #42 | Eumetopias jubatus | Steller sea lion | XP_027970822.1 |\n",
    "| | Callorhinus ursinus | Northern fur seal | XP_025713397.1 |\n",
    "| | Odobenus rosmarus divergens | Pacific walrus | XP_004415448.1 |\n",
    "| | Phoca vitulina | Harbor seal | XP_032245506.1 |\n",
    "| #43 | Neomonachus schauinslandi | Hawaiian monk seal | XP_021536480.1 |\n",
    "| #44 | Mustela putorius furo | Domestic ferret | NP_001297119.1 |\n",
    "| | Mustela erminea | Stoat | XP_032187677.1 |\n",
    "| | Enhydra lutris kenyoni | Sea Otter | XP_022374078.1 |\n",
    "| #45 | Felis catus | Domestic cat | XP_023104564.1 |\n",
    "| #46 | Lynx canadensis | Canada lynx | XP_030160839.1 |\n",
    "| #47 | Acinonyx jubatus | Cheetah | XP_026910297.1 |\n",
    "| | Puma concolor | Puma | XP_025790417.1 |\n",
    "| #48 | Panthera pardus | Leopard | XP_019273508.1 |\n",
    "| | Panthera tigris altaica | Amur tiger | XP_007090142.1 |\n",
    "| #49 | Manis javanica | Malayan pangolin | XP_017505746.1 |"
   ]
  },
  {
   "cell_type": "code",
   "execution_count": 3,
   "metadata": {},
   "outputs": [],
   "source": [
    "accession_dict = {\n",
    "    \"Homo sapiens (Human)\": \"NP_001358344.1\",\n",
    "    \"Pan troglodytes (Chimpanzee)\": \"XP_016798468.1\",\n",
    "    \"Callithrix jacchus (Marmoset)\": \"XP_008987241.1\",\n",
    "    \"Felis catus (Cat)\": \"XP_023104564.1\",\n",
    "    \"Canis lupus familiaris (Dog)\": \"NP_001158732.1\",\n",
    "    \"Mustela putorius furo (ferret)\": \"NP_001297119.1\",\n",
    "    \"Rousettus aegyptiacus (Bat)\": \"XP_015974412.1\",\n",
    "    \"Manis javanica (Pangolin)\": \"XP_017505746.1\",\n",
    "    \"Sus scrofa (Pig)\": \"NP_001116542.1\",\n",
    "    \"Peromyscus leucopus(Mouse)\": \"XP_028743609.1\",\n",
    "    \"Bos taurus (Cattle)\": \"XP_005228485.1\",\n",
    "}"
   ]
  },
  {
   "cell_type": "code",
   "execution_count": 4,
   "metadata": {},
   "outputs": [
    {
     "name": "stdout",
     "output_type": "stream",
     "text": [
      "Saved fasta file to ace2_orthologs.fasta\n"
     ]
    }
   ],
   "source": [
    "fasta_file = \"ace2_orthologs.fasta\"\n",
    "accession_vals = list(accession_dict.values())\n",
    "\n",
    "try:\n",
    "    handle = Entrez.efetch(db=\"protein\", id=accession_vals, rettype=\"fasta\", retmode=\"text\", email=\"abc@efg.com\")\n",
    "    data = handle.read()\n",
    "    handle.close()\n",
    "    pathlib.Path(fasta_file).write_text(data)\n",
    "    print(f\"Saved fasta file to {fasta_file}\")\n",
    "except Exception as e:\n",
    "    print(f\"Errror occured: {e}\")"
   ]
  },
  {
   "cell_type": "code",
   "execution_count": 5,
   "metadata": {},
   "outputs": [
    {
     "name": "stdout",
     "output_type": "stream",
     "text": [
      ">>> Successfully loaded sequences from file. Verification:\n",
      "---------------------------------------------------------\n",
      "  - Homo sapiens (Human) (NP_001358344.1): 805 amino acids\n",
      "  - Pan troglodytes (Chimpanzee) (XP_016798468.1): 805 amino acids\n",
      "  - Callithrix jacchus (Marmoset) (XP_008987241.1): 805 amino acids\n",
      "  - Felis catus (Cat) (XP_023104564.1): 807 amino acids\n",
      "  - Canis lupus familiaris (Dog) (NP_001158732.1): 804 amino acids\n",
      "  - Mustela putorius furo (ferret) (NP_001297119.1): 805 amino acids\n",
      "  - Rousettus aegyptiacus (Bat) (XP_015974412.1): 805 amino acids\n",
      "  - Manis javanica (Pangolin) (XP_017505746.1): 805 amino acids\n",
      "  - Sus scrofa (Pig) (NP_001116542.1): 805 amino acids\n",
      "  - Peromyscus leucopus(Mouse) (XP_028743609.1): 805 amino acids\n",
      "  - Bos taurus (Cattle) (XP_005228485.1): 811 amino acids\n",
      "---------------------------------------------------------\n"
     ]
    }
   ],
   "source": [
    "fasta_filename = \"ace2_orthologs.fasta\"\n",
    "sequences_dict = {}\n",
    "try:\n",
    "    with open(fasta_filename, \"r\") as handle:\n",
    "        for record in SeqIO.parse(handle, \"fasta\"):\n",
    "            common_name = None\n",
    "            for name, acc in accession_dict.items():\n",
    "                if acc in record.id:\n",
    "                    common_name = name\n",
    "                    break\n",
    "            if common_name:\n",
    "                record.id = common_name\n",
    "                record.description = f\"{common_name} ACE2\"\n",
    "                sequences_dict[common_name] = record\n",
    "\n",
    "    print(\">>> Successfully loaded sequences from file. Verification:\")\n",
    "    print(\"---------------------------------------------------------\")\n",
    "    for name, record in sequences_dict.items():\n",
    "        print(f\"  - {name:<12} ({accession_dict[name]}): {len(record.seq)} amino acids\")\n",
    "    print(\"---------------------------------------------------------\")\n",
    "\n",
    "except FileNotFoundError:\n",
    "    print(f\"Error: The file '{fasta_filename}' was not found. Please run the download step again.\")"
   ]
  },
  {
   "cell_type": "code",
   "execution_count": 6,
   "metadata": {},
   "outputs": [],
   "source": [
    "aligner = PairwiseAligner()\n",
    "aligner.mode = 'global'\n",
    "aligner.substitution_matrix = substitution_matrices.load(\"BLOSUM62\")\n",
    "aligner.open_gap_score = -5\n",
    "aligner.extend_gap_score = -3"
   ]
  },
  {
   "cell_type": "markdown",
   "metadata": {},
   "source": [
    "# A History of BLOSUM\n",
    "BLOSUM is a log-odds score that tells the likelihood of two amino acids being aligned in a set of proteins versus them being aligned by pure chance. The creators of this method started with a trusted database of aligned proteins called **\"BLOCKS\"**. This contains multiple sequence alignments of conserved regions from multiple protein families. These are regions where alignment is considered highly reliable and biologically correct because they are critical for the protein's function.\n",
    "\n",
    "```plaintext\n",
    "Protein 1:  P  I  V  L  Q  K\n",
    "Protein 2:  P  V  V  M  Q  K\n",
    "Protein 3:  A  I  I  L  E  R\n",
    "Protein 4:  P  I  V  L  Q  K\n",
    "```\n",
    "Each pair per column was counted. Example:\n",
    "1. Column 1: P-P, P-A, A-P\n",
    "2. Column 2: I-V, V-I, I-I\n",
    "3. Column 3: V-V, V-I, I-V\n",
    "\n",
    "...\n",
    "\n",
    "This gives them the observed frequency of each possible amino acid pairing in proteins that are known to be related. This is the term $p_{ij}$ in the equation.\n",
    "\n",
    "For BLOSUM62, they grouped all sequences that were more than 62% identical and treated them as a single sequence. They then counted pairs between these groups. This means the data primarily comes from divergent proteins.\n",
    "\n",
    "The expected frequencies are simply derived from the probability of seeing each individual amino acid within the entire database. For example, Alanine $f_a$ has a probability of about 7.4% while Tryptophan only has a probability of 1.3%.\n",
    "\n",
    "Finally, the log odds score is given as $log(\\frac{p_ij}{f_i * f_j})$\n",
    "\n",
    "If the score is positive it means that the pairing happens more often in related proteins than by chance. Meanwhile if it is negative, it means that the pairing happens less often in related proteins by chance.\n",
    "\n",
    "\n",
    "Note: The original paper also uses a scaling factor and rounded. This makes the numbers easier to work with. (wikipedia.org xd)\n",
    "\n",
    "> this website says na it's best to use blosum62 for protein \n",
    "https://www.nlm.nih.gov/ncbi/workshops/2023-08_BLAST_evol/blast_score.html\n",
    "\n",
    "> this paper says what affine scores should be set for blosum62\n",
    "Empirical determination of effective gap penalties for sequence comparison\n",
    "10.1093/bioinformatics/18.11.1500\n",
    "\n",
    "[1] S. Henikoff, & J.G. Henikoff, Amino acid substitution matrices from protein blocks., Proc. Natl. Acad. Sci. U.S.A. 89 (22) 10915-10919, https://doi.org/10.1073/pnas.89.22.10915 (1992)."
   ]
  },
  {
   "cell_type": "code",
   "execution_count": 12,
   "metadata": {},
   "outputs": [
    {
     "name": "stdout",
     "output_type": "stream",
     "text": [
      "All pairwise alignments complete\n"
     ]
    }
   ],
   "source": [
    "def get_best_alignment(aligner, seq1, seq2): return aligner.align(seq1, seq2)[0]\n",
    "\n",
    "def compute_percent_identity(aligned1, aligned2): return sum(a == b for a, b in zip(aligned1, aligned2)) / len(aligned1) * 100\n",
    "\n",
    "def extract_key_residues(aligned_human, aligned_other, key_positions):\n",
    "    ungapped_to_aln = [i for i, c in enumerate(aligned_human) if c != '-']\n",
    "    residues = {}\n",
    "    for pos in key_positions:\n",
    "        if pos - 1 < len(ungapped_to_aln):\n",
    "            aln_idx = ungapped_to_aln[pos - 1]\n",
    "            residues[pos] = aligned_other[aln_idx]\n",
    "        else:\n",
    "            residues[pos] = '-'\n",
    "    return residues\n",
    "\n",
    "def analyze_against_human(sequences, aligner, human_key, key_positions):\n",
    "    human_seq = sequences[human_key].seq\n",
    "    identity_scores = {}\n",
    "    key_residues = {}\n",
    "\n",
    "    for name, record in sequences.items():\n",
    "        if name == human_key: continue\n",
    "        aln = get_best_alignment(aligner, human_seq, record.seq)\n",
    "        h_aln, o_aln = aln[0], aln[1]\n",
    "        pct_id = compute_percent_identity(h_aln, o_aln)\n",
    "        identity_scores[name] = (aln.score, pct_id)\n",
    "        key_residues[name] = extract_key_residues(h_aln, o_aln, key_positions)\n",
    "\n",
    "    return identity_scores, key_residues\n",
    "\n",
    "KEY_POSITIONS = [31, 35, 38, 41, 42, 82, 353]\n",
    "HUMAN_NAME = \"Homo sapiens (Human)\"\n",
    "identity_scores, key_residues = analyze_against_human(sequences_dict, aligner, HUMAN_NAME, KEY_POSITIONS)\n",
    "print(\"All pairwise alignments complete\")\n"
   ]
  },
  {
   "cell_type": "code",
   "execution_count": 13,
   "metadata": {},
   "outputs": [
    {
     "name": "stdout",
     "output_type": "stream",
     "text": [
      "------------------------------------------------------------\n",
      "Species                        |   Score | Identity (%)\n",
      "------------------------------------------------------------\n",
      "Pan troglodytes (Chimpanzee)   |  4253.0 |       99.01%\n",
      "Callithrix jacchus (Marmoset)  |  3957.0 |       91.68%\n",
      "Felis catus (Cat)              |  3697.0 |       84.63%\n",
      "Canis lupus familiaris (Dog)   |  3639.0 |       83.48%\n",
      "Mustela putorius furo (ferret) |  3629.0 |       82.63%\n",
      "Rousettus aegyptiacus (Bat)    |  3482.0 |       78.88%\n",
      "Manis javanica (Pangolin)      |  3679.0 |       84.84%\n",
      "Sus scrofa (Pig)               |  3567.0 |       81.37%\n",
      "Peromyscus leucopus(Mouse)     |  3633.0 |       83.11%\n",
      "Bos taurus (Cattle)            |  3441.0 |       78.38%\n",
      "Human                          |       - |            -\n",
      "------------------------------------------------------------\n"
     ]
    }
   ],
   "source": [
    "# table 1: alignment scores and identity\n",
    "print(\"-\" * 60)\n",
    "print(f\"{'Species':<30} | {'Score':>7} | {'Identity (%)':>12}\")\n",
    "print(\"-\" * 60)\n",
    "\n",
    "for name, (score, identity) in identity_scores.items():\n",
    "    print(f\"{name:<30} | {score:7.1f} | {identity:11.2f}%\")\n",
    "\n",
    "print(f\"{'Human':<30} | {'-':>7} | {'-':>12}\")\n",
    "print(\"-\" * 60)\n"
   ]
  },
  {
   "cell_type": "markdown",
   "metadata": {},
   "source": [
    "# TO DO PARAPHRASE\n",
    "Our analysis revealed that 80 ACE2 orthologs from 295 species exactly contained the relevant amino acids at positions 31, 35, 38, 82, and 353, which we deduce would allow them to function as SARS-CoV-2 receptors \n",
    "\n",
    "Based on the structures of SARS-CoV-2 S protein complexed with human ACE2, five critical amino acid residues of human ACE2 (31K, 35E, 38D, 82M, or 353K) constitute two virusbinding hotspots (31K hotspot and 353K hotspot) that are indispensable for interaction with S protein and viral entry (22). The 31K hotspot consists of a salt bridge between 31K and 35E, and the 353K hotspot consists of a salt bridge between 353K and 38D; 82M is critical to stabilize 31K hotspot through hydrophobic interaction with 486F of SARS-CoV-2 RBD (22, 28).\n",
    "\n",
    "Y41 and Q42 in human ACE2 are responsible for the formation of hydrogen bonds with S protein and are highly conserved \n",
    "across all other species [to paraphrase].\n",
    "\n",
    "Note the residues for Marmoset (H, E) at positions 41 and 42, which differ from the Human (Y, Q), as highlighted in the PNAS paper.\n",
    "[FROM STUDY]"
   ]
  },
  {
   "cell_type": "code",
   "execution_count": 15,
   "metadata": {},
   "outputs": [
    {
     "name": "stdout",
     "output_type": "stream",
     "text": [
      "\n",
      "Key Residues:\n",
      "----------------------------------------------------------------------------------------------------\n",
      "Species                        |  Pos 31 |  Pos 35 |  Pos 38 |  Pos 41 |  Pos 42 |  Pos 82 | Pos 353\n",
      "----------------------------------------------------------------------------------------------------\n",
      "Pan troglodytes (Chimpanzee)   |       K |       E |       D |       Y |       Q |       M |       K\n",
      "Callithrix jacchus (Marmoset)  |       K |       E |       D |       H |       E |       T |       K\n",
      "Felis catus (Cat)              |       K |       E |       E |       Y |       Q |       T |       K\n",
      "Canis lupus familiaris (Dog)   |       K |       E |       E |       Y |       Q |       T |       K\n",
      "Mustela putorius furo (ferret) |       K |       E |       E |       Y |       Q |       T |       K\n",
      "Rousettus aegyptiacus (Bat)    |       K |       E |       D |       Y |       Q |       T |       K\n",
      "Manis javanica (Pangolin)      |       K |       E |       E |       Y |       Q |       N |       K\n",
      "Sus scrofa (Pig)               |       K |       E |       D |       Y |       Q |       T |       K\n",
      "Peromyscus leucopus(Mouse)     |       K |       E |       D |       Y |       Q |       N |       K\n",
      "Bos taurus (Cattle)            |       K |       E |       D |       Y |       Q |       T |       K\n",
      "Human                          |       K |       E |       L |       Y |       Q |       M |       K\n",
      "----------------------------------------------------------------------------------------------------\n",
      "\n",
      "Discussion Point: For example, Y41 and Q42 in human ACE2 are responsible for the formation of hydrogen bonds with S protein and are highly conserved \n",
      "across all other species [to paraphrase].\n",
      "\n",
      "Note the residues for Marmoset (H, E) at positions 41 and 42, which differ from the Human (Y, Q), as highlighted in the PNAS paper.\n"
     ]
    }
   ],
   "source": [
    "human_record = sequences_dict[HUMAN_NAME]\n",
    "\n",
    "print(\"\\nKey Residues:\")\n",
    "print(\"-\" *100)\n",
    "print(f\"{'Species':<30} | {'Pos 31':>7} | {'Pos 35':>7} | {'Pos 38':>7} | {'Pos 41':>7} | {'Pos 42':>7} | {'Pos 82':>7} | {'Pos 353':>7}\")\n",
    "print(\"-\" * 100)\n",
    "\n",
    "for name, residues in key_residues.items():\n",
    "    print(f\"{name:<30}\"\n",
    "          + \"\".join(f\" | {residues.get(pos, '-'):>7}\" for pos in [31, 35, 38, 41, 42, 82, 353]))\n",
    "\n",
    "print(f\"{'Human':<30}\"\n",
    "      + f\" | {human_record.seq[30]:>7} | {human_record.seq[34]:>7} | {human_record.seq[38]:>7} | {human_record.seq[40]:>7}\"\n",
    "      + f\" | {human_record.seq[41]:>7} | {human_record.seq[81]:>7} | {human_record.seq[352]:>7}\")\n",
    "print(\"-\" * 100)\n",
    "\n",
    "print(\"\\nDiscussion Point: For example, Y41 and Q42 in human ACE2 are responsible for the formation of hydrogen bonds with S protein and are highly conserved \"\n",
    "      \"\\nacross all other species [to paraphrase].\")\n",
    "print(\"\\nNote the residues for Marmoset (H, E) at positions 41 and 42, which differ from the Human (Y, Q), as highlighted in the PNAS paper.\")"
   ]
  },
  {
   "cell_type": "markdown",
   "metadata": {},
   "source": [
    "p-distance\n",
    "As in the case for nucleotide sequences, the p-distance is merely the proportion of different amino acids between two sequences compared. Therefore, the statistical properties of this distance are the same as those of the p-distance for nucleotide sequence data.\n",
    "\n",
    "$$\n",
    "p = n_d/n, \\tag{4.48}\n",
    "$$\n",
    "\n",
    "$$\n",
    "V(p) = p(1 - p)/n \\tag{4.49\n",
    "$$\n",
    "\n",
    "Here n$_d$ and n are the number of amino acid differences and the total number of amino acids compared, respectively."
   ]
  },
  {
   "cell_type": "code",
   "execution_count": null,
   "metadata": {},
   "outputs": [],
   "source": [
    "def compute_p_distance(seq1, seq2):\n",
    "    mismatches = 0\n",
    "    aligned_len_no_gaps = 0\n",
    "    for i in range(len(seq1)):\n",
    "        if seq1[i] != '-' and seq2[i] != '-':\n",
    "            aligned_len_no_gaps += 1\n",
    "            if seq1[i] != seq2[i]:\n",
    "                mismatches += 1\n",
    "    \n",
    "    if aligned_len_no_gaps == 0:\n",
    "        return 0.0\n",
    "\n",
    "    # p-distance is the proportion of non-identical sites\n",
    "    p_dist = mismatches / aligned_len_no_gaps\n",
    "    return p_dist"
   ]
  },
  {
   "cell_type": "code",
   "execution_count": null,
   "metadata": {},
   "outputs": [],
   "source": []
  },
  {
   "cell_type": "code",
   "execution_count": null,
   "metadata": {},
   "outputs": [],
   "source": [
    "species_names = list(sequences_dict.keys())\n",
    "num_species = len(species_names)\n",
    "\n",
    "print(\"\\nP-distance to Human:\")\n",
    "print(\"-\" * 30)\n",
    "print(f\"{'Species':<30} | {'p-distance':>10}\")\n",
    "print(\"-\" * 30)\n",
    "\n",
    "for species in species_names:\n",
    "    if species == \"Homo sapiens (Human)\":\n",
    "        continue\n",
    "    # aligned sequences from the alignment Human vs species\n",
    "    aligned_human = alignments_dict[species][0]\n",
    "    aligned_other = alignments_dict[species][1]\n",
    "\n",
    "    p_dist = compute_p_distance(aligned_human, aligned_other)\n",
    "    print(f\"{species:<30} | {p_dist:10.4f}\")\n",
    "\n"
   ]
  },
  {
   "cell_type": "markdown",
   "metadata": {},
   "source": [
    "<img src = \"data:image/png;base64,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\" />"
   ]
  },
  {
   "cell_type": "code",
   "execution_count": null,
   "metadata": {},
   "outputs": [],
   "source": [
    "def compute_poisson_distance(seq1, seq2):\n",
    "    p_dist = compute_p_distance(seq1, seq2)\n",
    "    if p_dist >= 1.0:\n",
    "        return float('inf')  # Avoid log(0) or negative values\n",
    "    return -math.log(1 - p_dist)\n"
   ]
  },
  {
   "cell_type": "markdown",
   "metadata": {},
   "source": [
    "TODO: why you need poisson"
   ]
  },
  {
   "cell_type": "code",
   "execution_count": null,
   "metadata": {},
   "outputs": [],
   "source": [
    "species_names = list(sequences_dict.keys())\n",
    "num_species = len(species_names)\n",
    "\n",
    "print(\"\\nPoisson corrected distance to Human:\")\n",
    "print(\"-\" * 30)\n",
    "print(f\"{'Species':<30} | {'poisson-distance':>10}\")\n",
    "print(\"-\" * 30)\n",
    "\n",
    "for species in species_names:\n",
    "    if species == \"Homo sapiens (Human)\":\n",
    "        continue\n",
    "    aligned_human = alignments_dict[species][0]\n",
    "    aligned_other = alignments_dict[species][1]\n",
    "\n",
    "    p_dist = compute_poisson_distance(aligned_human, aligned_other)\n",
    "    print(f\"{species:<30} | {p_dist:10.4f}\")\n",
    "\n"
   ]
  },
  {
   "cell_type": "markdown",
   "metadata": {},
   "source": [
    "to do a dendogram, you need pairwise sequence alignment of all-all, not just one species-human"
   ]
  },
  {
   "cell_type": "code",
   "execution_count": null,
   "metadata": {},
   "outputs": [],
   "source": [
    "distances = np.zeros((num_species, num_species))  # initialize full matrix\n",
    "\n",
    "for i in range(num_species):\n",
    "    for j in range(i):  # only compute for lower triangle\n",
    "        species1 = species_names[i]\n",
    "        species2 = species_names[j]\n",
    "\n",
    "        record1 = sequences_dict[species1]\n",
    "        record2 = sequences_dict[species2]\n",
    "\n",
    "        alignment = aligner.align(record1.seq, record2.seq)[0]\n",
    "        corrected_distance = compute_poisson_distance(alignment[0], alignment[1])\n",
    "\n",
    "        distances[i][j] = corrected_distance\n",
    "        distances[j][i] = corrected_distance  # mirror"
   ]
  },
  {
   "cell_type": "markdown",
   "metadata": {},
   "source": [
    "A->B, B->A"
   ]
  },
  {
   "cell_type": "code",
   "execution_count": null,
   "metadata": {},
   "outputs": [],
   "source": [
    "distances"
   ]
  },
  {
   "cell_type": "markdown",
   "metadata": {},
   "source": [
    "TO DO: NOT SURE IF THIS IS CORRECT\n",
    "Reference https://docs.scipy.org/doc/scipy/reference/generated/scipy.cluster.hierarchy.linkage.html#scipy.cluster.hierarchy.linkage\n",
    "\n",
    "WIKIPEDIA REFERENCE PROVIDED BY DOC:\n",
    "https://en.wikipedia.org/wiki/UPGMA"
   ]
  },
  {
   "cell_type": "code",
   "execution_count": null,
   "metadata": {},
   "outputs": [],
   "source": [
    "condensed = squareform(distances)"
   ]
  },
  {
   "cell_type": "code",
   "execution_count": null,
   "metadata": {},
   "outputs": [],
   "source": [
    "condensed"
   ]
  },
  {
   "cell_type": "code",
   "execution_count": null,
   "metadata": {},
   "outputs": [],
   "source": [
    "linkage_matrix = linkage(condensed, method='average')  # UPGMA\n",
    "\n",
    "# Plot dendrogram\n",
    "plt.figure(figsize=(10, 5))\n",
    "dendrogram(linkage_matrix, labels=species_names, leaf_rotation=90)\n",
    "plt.title(\"Dendrogram from poisson-distance (UPGMA)\")\n",
    "plt.ylabel(\"poisson-distance\")\n",
    "plt.tight_layout()\n",
    "plt.show()\n"
   ]
  }
 ],
 "metadata": {
  "kernelspec": {
   "display_name": "Python 3 (ipykernel)",
   "language": "python",
   "name": "python3"
  },
  "language_info": {
   "codemirror_mode": {
    "name": "ipython",
    "version": 3
   },
   "file_extension": ".py",
   "mimetype": "text/x-python",
   "name": "python",
   "nbconvert_exporter": "python",
   "pygments_lexer": "ipython3",
   "version": "3.13.5"
  }
 },
 "nbformat": 4,
 "nbformat_minor": 4
}
