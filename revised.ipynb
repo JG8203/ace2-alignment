{
 "cells": [
  {
   "attachments": {},
   "cell_type": "markdown",
   "metadata": {},
   "source": [
    "# The Renin–Angiotensin–Aldosterone System (RAAS)\n",
    "## RAAS: Function and Biological Purpose\n",
    "The renin–angiotensin–aldosterone system (RAAS) is a hormonal signaling cascade that regulates blood pressure, fluid volume, and electrolyte balance in the body. It is a key homeostatic mechanism that activates when blood pressure is low to restore it.\n",
    "\n",
    "### The Classical Model of the RAAS Pathway\n",
    "![RAAS](https://media.springernature.com/lw685/springer-static/image/art%3A10.1038%2Fs41371-020-00459-3/MediaObjects/41371_2020_459_Fig1_HTML.png?as=webp)\n",
    "1. **Renin**, an enzyme from the kidney, converts angiotensinogen (from the liver) into **angiotensin I**\n",
    "2. **Angiotensin-Coverting Enzyme (ACE)** then cleaves angiotensin I into **angiotensin II (Ang II)**\n",
    "3. **Angiotensin II** is the main effector of the RAAS. This binds to the **angiotensin type 1 receptor** to raise blood pressure by causing the narrowing of blood vessels, stimulating aldosterone release (promoting sodium and water retention), and by activating the sympathetic nervous system.\n",
    "\n",
    "However, overactivation of the RAAS system could lead to pro-inflammatory and pro-fibrotic (scarring) effects. The excessive activity of Ang II has been implicated in the following:\n",
    "1. Hypertension\n",
    "2. Heart Failure\n",
    "3. Chronic Kidney Disease\n",
    "4. Cardiovascular remodeling and organ damage\n",
    "\n",
    "Medications such as ACE inhibitors and ARBs are fundamental for the treatment of these conditions. However, it was also discovered that RAAS isn't a single pathway but a system of \"competing\" pathways. This was described as a **\"pressor\" arm** driven by ACE and a **\"protective\" arm** driven by ACE2.\n",
    "\n",
    "ACE2 was discovered in 2000 as a homolog of ACE (~60% similarity). The most important reaction catalyzed by ACE2 is the conversion of Ang II into **Ang 1-7**. Ang 1-7 binds to Mas and MrgD receptors, causing vasodilation, smooth muscle relaxation, and lowering pressure in the kidneys.\n",
    "\n",
    "# ACE2 and COVID-19\n",
    "\n",
    "In 2003, ACE2 primarily gained more attention beyond its physiology when it was identified as the entry receptor for the SARS coronavirus (SARS-COV). Seventeen years later, a new coronavirus **SARS-COV-2** also uses ACE2 as its gateway into human cells. In fact , the virus has evolved to bind ACE2 with remarkable affinity. This affinity was quantified 10-20 times hgiher than that of the 2003 SARS-CoV spike for ACE2. It should also be noted that the ACE2 receptor is primarily found on the epithelial tissue of the lungs (cite: Human Protein Atlas)\n",
    "\n",
    "## Mechanism of Viral Entry\n",
    "Binding is only the first step. The entry of the virus into the host cells also requires the cleavage of the viral Spike protein by host proteases.\n",
    "1. The viral Spike binds to the ACE2 receptor on the host cell surface.\n",
    "2. The spike protein is cleaved by the host cell's proteases. The SARS-CoV-2 Spike has a furin cleavage site. This site is cleaved by furin during virus production, which makes the virus more efficient in infecting the host cell.\n",
    "3. Then after binding to ACE2, the host proteases make a final cut at the S2' site. This activates the Spike's fusion machinery.\n",
    "4. Finally, the Spike's fusion peptide is unleashed into the host cell membrane, refolding into a more stable state, pulling the viral and cellular membranes together which lets it enter the cytoplasm.\n",
    "\n",
    "# Working Question\n",
    "Due to the afforementioned affinity of the SARS-CoV-2 Spike protein for human ACE2, we aim to analyze **which animal species are also suscpetible to infection by SARS-CoV-2.** By analyzing the similarity between the ACE2 orthologs of various vertebrates and the human ACE2 protein, we can infer their potential as hosts for the virus. This python notebook aims to replicate the study made by Liu et. al wherein they tested 48 different ACE2 orthologs and found that 44 of them could succesfully bind the SARS-CoV-2 Spike protein and support viral entry into cells. Furthermore, another study by the same authors also studied the host range for SARS-CoV, a bat CoV and pangolin CoV in the hopes of developing a potential treatment for these viruses.\n",
    "\n",
    "[1] Fountain JH, Kaur J, Lappin SL. Physiology, Renin Angiotensin System. [Updated 2023 Mar 12]. In: StatPearls [Internet]. Treasure Island (FL): StatPearls Publishing; 2025 Jan-. Available from: https://www.ncbi.nlm.nih.gov/books/NBK470410/\n",
    "\n",
    "[2] Bhalla, V., Blish, C.A. & South, A.M. A historical perspective on ACE2 in the COVID-19 era. J Hum Hypertens 35, 935–939 (2021). https://doi.org/10.1038/s41371-020-00459-3\n",
    "\n",
    "[3] Lan, J., Ge, J., Yu, J. et al. Structure of the SARS-CoV-2 spike receptor-binding domain bound to the ACE2 receptor. Nature 581, 215–220 (2020). https://doi.org/10.1038/s41586-020-2180-5\n",
    "\n",
    "[4] Li Y, Wang H, Tang X, Fang S, Ma D, Du CWang Y, Pan HYao WZhang R, Zou X, Zheng J, Xu L, Farzan M, Zhong G 2020. SARS-CoV-2 and Three Related Coronaviruses Utilize Multiple ACE2 Orthologs and Are Potently Blocked by an Improved ACE2-Ig. J Virol 94:10.1128/jvi.01283-20.\n",
    "https://doi.org/10.1128/jvi.01283-20"
   ]
  },
  {
   "cell_type": "code",
   "execution_count": 22,
   "metadata": {},
   "outputs": [],
   "source": [
    "import os\n",
    "import math\n",
    "import numpy as np\n",
    "import pathlib\n",
    "\n",
    "from Bio import Entrez\n",
    "from Bio import SeqIO\n",
    "from Bio.Align import PairwiseAligner, substitution_matrices\n",
    "from scipy.spatial.distance import squareform\n",
    "from scipy.cluster.hierarchy import linkage, dendrogram\n",
    "import matplotlib.pyplot as plt\n"
   ]
  },
  {
   "cell_type": "markdown",
   "metadata": {},
   "source": [
    "Organisms are retrieved from Functional and genetic analysis of viral receptor ACE2 orthologs reveals a broad potential host range\n",
    "of SARS-CoV-2 paper. List of accession numbers are shown as follows. Only 11 will be retrieved inclusive of Human ortholog.\n",
    "\n",
    "| ID | Species | Common Name | NCBI Accession |\n",
    "|:---|:---|:---|:---|\n",
    "| #1 | Homo sapiens | Human | NP_001358344.1 |\n",
    "| #2 | Pan troglodytes | Chimpanzee | XP_016798468.1 |\n",
    "| | Pan paniscus | Pygmy chimpanzee | XP_008972428.1 |\n",
    "| #3 | Gorilla gorilla gorilla | Western lowland gorilla | NP_018874749.1 |\n",
    "| #4 | Nomascus leucogenys | Northern white-cheeked gibbon | XP_003261132.2 |\n",
    "| #5 | Pongo abelii | Sumatran orangutan | NP_001124604.1 |\n",
    "| #6 | Macaca mulatta | Rhesus monkey | NP_001129168.1 |\n",
    "| | Macaca fascicularis | Crab-eating macaque | XP_005593094.1 |\n",
    "| | Macaca nemestrina | Pig-tailed macaque | XP_011733505.1 |\n",
    "| | Cercocebus atys | Sooty mangabey | XP_011891198.1 |\n",
    "| | Mandrillus leucophaeus | Drill | XP_011850923.1 |\n",
    "| #7 | Papio anubis | Olive baboon | XP_021788732.1 |\n",
    "| #8 | Theropithecus gelada | Gelada | XP_025227847.1 |\n",
    "| | Chlorocebus sabaeus | Green monkey | XP_007989304.1 |\n",
    "| #9 | Rhinopithecus roxellana | Golden snub-nosed monkey | XP_010364367.2 |\n",
    "| #10 | Piliocolobus tephrosceles | Ugandan red Colobus | XP_023054821.1 |\n",
    "| #11 | Callithrix jacchus | white-tufted-ear marmoset | XP_008987241.1 |\n",
    "| #12 | Sapajus apella | Tufted capuchin | XP_032141854.1 |\n",
    "| | Cebus capucinus imitator | White-headed Capuchin | XP_017367865.1 |\n",
    "| | Aotus nancymaae | Nancy Ma's Night Monkey | XP_012290105.1 |\n",
    "| #13 | Saimiri boliviensis boliviensis | Bolivian squirrel monkey | XP_010334925.1 |\n",
    "| | Propithecus coquereli | (Coquerel's sifaka)monkey | XP_012494185.1 |\n",
    "| #14 | Oryctolagus cuniculus | Rabbit | XP_002719891.1 |\n",
    "| | Ochotona princeps | American pika | XP_004597549.2 |\n",
    "| | Mesocricetus auratus | Golden hamster | XP_005074266.1 |\n",
    "| #15 | Cricetulus griseus | Chinese hamster | XP_003503283.1 |\n",
    "| #16 | Peromyscus leucopus | White-footed mouse | XP_028743609.1 |\n",
    "| | Peromyscus maniculatus bairdii | Prairie Deer Mouse | XP_006973269.1 |\n",
    "| #18 | Jaculus jaculus | Lesser Egyptian jerboa | XP_004671523.1 |\n",
    "| #19 | Ictidomys tridecemlineatus | Thirteen-lined ground squirrel | XP_005316051.3 |\n",
    "| #20 | Sus scrofa | Pig | NP_001116542.1 |\n",
    "| #21 | Globicephala melas | Long-finned pilot whale | XP_030703991.1 |\n",
    "| | Lagenorhynchus obliquidens | Pacific white-sided dolphin | XP_026951598.1 |\n",
    "| #22 | Orcinus orca | Killer whale | XP_004269705.1 |\n",
    "| #23 | Tursiops truncatus | Common bottlenose dolphin | XP_019781177.1 |\n",
    "| #24 | Delphinapterus leucas | Beluga whale | XP_022418360.1 |\n",
    "| | Monodon monoceros | Narwhal | XP_029095804.1 |\n",
    "| #25 | Neophocaena asiaeorientalis asiaeorientalis | Finless Porpoise | XP_024599894.1 |\n",
    "| #26 | Lipotes vexillifer | Yangtze River dolphin | XP_007466389.1 |\n",
    "| #27 | Physeter catodon | Sperm whale | XP_023971279.1 |\n",
    "| | Balaenoptera acutorostrata scammoni | Minke Whale | XP_028020351.1 |\n",
    "| #28 | Bos taurus | Cattle | XP_005228485.1 |\n",
    "| | Bos indicus | Bos taurus indicus | XP_019811719.1 |\n",
    "| | Bos indicus x Bos taurus | Hybrid cattle | XP_027389727.1 |\n",
    "| | Bison bison bison | American plain bison | XP_010833001.1 |\n",
    "| | Odocoileus virginianus texanus | White-tailed fawns | XP_020768965.1 |\n",
    "| #29 | Bos mutus | Wild yak | XP_005903173.1 |\n",
    "| #30 | Bubalus bubalis | Water buffalo | XP_006041602.1 |\n",
    "| #31 | Ovis aries | Sheep | XP_011961657.1 |\n",
    "| #32 | Capra hircus | Goat | NP_001277036.1 |\n",
    "| #33 | Rousettus aegyptiacus | Egyptian rousette | XP_015974412.1 |\n",
    "| | Vombatus ursinus | Common wombat | XP_027691156.1 |\n",
    "| #34 | Phascolarctos cinereus | Koala | XP_020863153.1 |\n",
    "| | Trichechus manatus latirostris | Florida manatee | XP_004386381.1 |\n",
    "| #35 | Equus caballus | Horse | XP_001490241.1 |\n",
    "| | Equus przewalskii | Przewalski's horse | XP_008542995.1 |\n",
    "| | Equus asinus | Ass | XP_014713133.1 |\n",
    "| #36 | Ceratotherium simum simum | Southern white rhinoceros | XP_004435206.1 |\n",
    "| #37 | Canis lupus familiaris | Dog | NP_001158732.1 |\n",
    "| | Canis lupus dingo | Dingo dog | XP_025292925.1 |\n",
    "| #38 | Vulpes vulpes | Red fox | XP_025842512.1 |\n",
    "| #39 | Ailuropoda melanoleuca | Giant panda | XP_002930657.1 |\n",
    "| | Ursus maritimus | Polar bear | XP_008694637.1 |\n",
    "| #40 | Ursus arctos horribilis | Bear | XP_026333865.1 |\n",
    "| #41 | Zalophus californianus | California sea lion | XP_027465353.1 |\n",
    "| #42 | Eumetopias jubatus | Steller sea lion | XP_027970822.1 |\n",
    "| | Callorhinus ursinus | Northern fur seal | XP_025713397.1 |\n",
    "| | Odobenus rosmarus divergens | Pacific walrus | XP_004415448.1 |\n",
    "| | Phoca vitulina | Harbor seal | XP_032245506.1 |\n",
    "| #43 | Neomonachus schauinslandi | Hawaiian monk seal | XP_021536480.1 |\n",
    "| #44 | Mustela putorius furo | Domestic ferret | NP_001297119.1 |\n",
    "| | Mustela erminea | Stoat | XP_032187677.1 |\n",
    "| | Enhydra lutris kenyoni | Sea Otter | XP_022374078.1 |\n",
    "| #45 | Felis catus | Domestic cat | XP_023104564.1 |\n",
    "| #46 | Lynx canadensis | Canada lynx | XP_030160839.1 |\n",
    "| #47 | Acinonyx jubatus | Cheetah | XP_026910297.1 |\n",
    "| | Puma concolor | Puma | XP_025790417.1 |\n",
    "| #48 | Panthera pardus | Leopard | XP_019273508.1 |\n",
    "| | Panthera tigris altaica | Amur tiger | XP_007090142.1 |\n",
    "| #49 | Manis javanica | Malayan pangolin | XP_017505746.1 |"
   ]
  },
  {
   "cell_type": "code",
   "execution_count": 23,
   "metadata": {},
   "outputs": [],
   "source": [
    "accession_dict = {\n",
    "    \"Homo sapiens (Human)\": \"NP_001358344.1\",\n",
    "    \"Pan troglodytes (Chimpanzee)\": \"XP_016798468.1\",\n",
    "    \"Callithrix jacchus (Marmoset)\": \"XP_008987241.1\",\n",
    "    \"Felis catus (Cat)\": \"XP_023104564.1\",\n",
    "    \"Canis lupus familiaris (Dog)\": \"NP_001158732.1\",\n",
    "    \"Mustela putorius furo (ferret)\": \"NP_001297119.1\",\n",
    "    \"Rousettus aegyptiacus (Bat)\": \"XP_015974412.1\",\n",
    "    \"Manis javanica (Pangolin)\": \"XP_017505746.1\",\n",
    "    \"Sus scrofa (Pig)\": \"NP_001116542.1\",\n",
    "    \"Peromyscus leucopus(Mouse)\": \"XP_028743609.1\",\n",
    "    \"Bos taurus (Cattle)\": \"XP_005228485.1\",\n",
    "}"
   ]
  },
  {
   "cell_type": "code",
   "execution_count": 24,
   "metadata": {},
   "outputs": [
    {
     "name": "stdout",
     "output_type": "stream",
     "text": [
      "Saved fasta file to ace2_orthologs.fasta\n"
     ]
    }
   ],
   "source": [
    "fasta_file = \"ace2_orthologs.fasta\"\n",
    "accession_vals = list(accession_dict.values())\n",
    "\n",
    "try:\n",
    "    handle = Entrez.efetch(db=\"protein\", id=accession_vals, rettype=\"fasta\", retmode=\"text\", email=\"abc@efg.com\")\n",
    "    data = handle.read()\n",
    "    handle.close()\n",
    "    pathlib.Path(fasta_file).write_text(data)\n",
    "    print(f\"Saved fasta file to {fasta_file}\")\n",
    "except Exception as e:\n",
    "    print(f\"Errror occured: {e}\")"
   ]
  },
  {
   "cell_type": "code",
   "execution_count": 25,
   "metadata": {},
   "outputs": [
    {
     "name": "stdout",
     "output_type": "stream",
     "text": [
      ">>> Successfully loaded sequences from file. Verification:\n",
      "---------------------------------------------------------\n",
      "  - Homo sapiens (Human) (NP_001358344.1): 805 amino acids\n",
      "  - Pan troglodytes (Chimpanzee) (XP_016798468.1): 805 amino acids\n",
      "  - Callithrix jacchus (Marmoset) (XP_008987241.1): 805 amino acids\n",
      "  - Felis catus (Cat) (XP_023104564.1): 807 amino acids\n",
      "  - Canis lupus familiaris (Dog) (NP_001158732.1): 804 amino acids\n",
      "  - Mustela putorius furo (ferret) (NP_001297119.1): 805 amino acids\n",
      "  - Rousettus aegyptiacus (Bat) (XP_015974412.1): 805 amino acids\n",
      "  - Manis javanica (Pangolin) (XP_017505746.1): 805 amino acids\n",
      "  - Sus scrofa (Pig) (NP_001116542.1): 805 amino acids\n",
      "  - Peromyscus leucopus(Mouse) (XP_028743609.1): 805 amino acids\n",
      "  - Bos taurus (Cattle) (XP_005228485.1): 811 amino acids\n",
      "---------------------------------------------------------\n"
     ]
    }
   ],
   "source": [
    "fasta_filename = \"ace2_orthologs.fasta\"\n",
    "sequences_dict = {}\n",
    "try:\n",
    "    with open(fasta_filename, \"r\") as handle:\n",
    "        for record in SeqIO.parse(handle, \"fasta\"):\n",
    "            common_name = None\n",
    "            for name, acc in accession_dict.items():\n",
    "                if acc in record.id:\n",
    "                    common_name = name\n",
    "                    break\n",
    "            if common_name:\n",
    "                record.id = common_name\n",
    "                record.description = f\"{common_name} ACE2\"\n",
    "                sequences_dict[common_name] = record\n",
    "\n",
    "    print(\">>> Successfully loaded sequences from file. Verification:\")\n",
    "    print(\"---------------------------------------------------------\")\n",
    "    for name, record in sequences_dict.items():\n",
    "        print(f\"  - {name:<12} ({accession_dict[name]}): {len(record.seq)} amino acids\")\n",
    "    print(\"---------------------------------------------------------\")\n",
    "\n",
    "except FileNotFoundError:\n",
    "    print(f\"Error: The file '{fasta_filename}' was not found. Please run the download step again.\")"
   ]
  },
  {
   "cell_type": "code",
   "execution_count": 26,
   "metadata": {},
   "outputs": [],
   "source": [
    "aligner = PairwiseAligner()\n",
    "aligner.mode = 'global'\n",
    "aligner.substitution_matrix = substitution_matrices.load(\"BLOSUM62\")\n",
    "aligner.open_gap_score = -5\n",
    "aligner.extend_gap_score = -3"
   ]
  },
  {
   "cell_type": "markdown",
   "metadata": {},
   "source": [
    "# BLOSUM Substitution Matrices: What They Are, Why They Matter, and How They Are Built\n",
    "\n",
    "BLOSUM (for **BLO**cks **SU**bstitution **M**atrix) is a family of log‑odds scoring tables used to judge how evolutionarily “reasonable” an amino‑acid replacement is when two protein sequences are aligned. In practice, alignment algorithms such as BLAST look up the score for every residue pair they compare; conservative substitutions (e.g., leucine to isoleucine) receive positive values, while radical ones (e.g., leucine → aspartate) are penalized. These scores are essential because the raw identity percentage alone cannot capture the underlying biochemistry: some swaps preserve structure or function far better than others.\n",
    "\n",
    "### From BLOCKS to Log‑Odds\n",
    "\n",
    "The Henikoffs began with the **BLOCKS** database, which contains multiple‑sequence alignments of short, highly conserved protein motifs. Because these regions are functionally critical, their residue matches are assumed to be biologically correct, giving trustworthy statistics. Within each alignment column, every unique pair of amino acids is counted:\n",
    "\n",
    "```text\n",
    "Protein 1: P  I  V  L  Q  K\n",
    "Protein 2: P  V  V  M  Q  K\n",
    "Protein 3: A  I  I  L  E  R\n",
    "Protein 4: P  I  V  L  Q  K\n",
    "```\n",
    "\n",
    "For instance, the first column yields the pairings P‑P, P‑A, and A‑P, while the second column produces I‑V, I‑I, and V‑I. Tallying all such pairs gives the **observed frequency** $p_{ij}$ of every possible substitution among related proteins. The **expected frequency** for the same pair, $f_i f_j$, is the product of the individual background probabilities of residues *i* and *j* across the entire data set (alanine, for example, appears \\~7.4 % of the time, whereas tryptophan appears only \\~1.3 %). The core BLOSUM score is then the base‑2 log‑odds ratio\n",
    "\n",
    "$$\n",
    "s_{ij} = \\log_2\\!\\bigl( p_{ij} \\,/\\, (f_i f_j) \\bigr),\n",
    "$$\n",
    "\n",
    "followed by multiplication and rounding so the final table contains convenient small integers.\n",
    "\n",
    "### What is BLOSUM62?\n",
    "\n",
    "Before counting, sequences that are **$\\geq$ 62 % identical** are clustered and treated as a single sequence, ensuring that closely related proteins do not dominate the statistics. A higher BLOSUM number (e.g., BLOSUM80) therefore reflects data from closely related proteins, making it suitable for aligning very similar sequences, while a lower number (e.g., BLOSUM45) derives from distant homologues and is better for remote‑homology searches. **BLOSUM62** offers a middle ground and has become the standard default for most protein‑search tools.\n",
    "\n",
    "### Construction of BLOSUM\n",
    "\n",
    "1. **Select trusted motifs** from BLOCKS.\n",
    "2. **Cluster sequences** sharing ≥ 62 % identity so each family contributes roughly once.\n",
    "3. **Count every residue pair** in each alignment column to obtain $p_{ij}$.\n",
    "4. **Calculate background frequencies** $f_i$ for all 20 amino acids.\n",
    "5. **Compute log‑odds**, scale, and round to generate an integer matrix.\n",
    "\n",
    "### Using BLOSUM in Alignment\n",
    "\n",
    "In this notebook, the residue scores are derived from BLOSUM62, while separate affine gap penalties are added for insertions and deletions. The summed score along the optimal path distinguishes real evolutionary relationships from chance similarity; positive totals suggest homology.\n",
    "\n",
    "[1] Henikoff S., Henikoff J.G. (1992) *Amino‑acid substitution matrices from protein blocks.* **PNAS** 89 (22): 10915‑10919.\n",
    "[2] Altschul S.F. (2002) *Empirical determination of effective gap penalties for sequence comparison.* **Bioinformatics** 18 (11): 1500‑1507.\n",
    "[3] NCBI BLAST workshop notes, “Why BLOSUM62 is the default.”\n"
   ]
  },
  {
   "cell_type": "code",
   "execution_count": 27,
   "metadata": {},
   "outputs": [
    {
     "name": "stdout",
     "output_type": "stream",
     "text": [
      "All pairwise alignments complete\n"
     ]
    }
   ],
   "source": [
    "def get_best_alignment(aligner, seq1, seq2): return aligner.align(seq1, seq2)[0]\n",
    "\n",
    "def compute_percent_identity(aligned1, aligned2): return sum(a == b for a, b in zip(aligned1, aligned2)) / len(aligned1) * 100\n",
    "\n",
    "def extract_key_residues(aligned_human, aligned_other, key_positions):\n",
    "    ungapped_to_aln = [i for i, c in enumerate(aligned_human) if c != '-']\n",
    "    residues = {}\n",
    "    for pos in key_positions:\n",
    "        if pos - 1 < len(ungapped_to_aln):\n",
    "            aln_idx = ungapped_to_aln[pos - 1]\n",
    "            residues[pos] = aligned_other[aln_idx]\n",
    "        else:\n",
    "            residues[pos] = '-'\n",
    "    return residues\n",
    "\n",
    "def analyze_against_human(sequences, aligner, human_key, key_positions):\n",
    "    human_seq = sequences[human_key].seq\n",
    "    identity_scores = {}\n",
    "    key_residues = {}\n",
    "\n",
    "    for name, record in sequences.items():\n",
    "        if name == human_key: continue\n",
    "        aln = get_best_alignment(aligner, human_seq, record.seq)\n",
    "        h_aln, o_aln = aln[0], aln[1]\n",
    "        pct_id = compute_percent_identity(h_aln, o_aln)\n",
    "        identity_scores[name] = (aln.score, pct_id)\n",
    "        key_residues[name] = extract_key_residues(h_aln, o_aln, key_positions)\n",
    "\n",
    "    return identity_scores, key_residues\n",
    "\n",
    "KEY_POSITIONS = [31, 35, 38, 41, 42, 82, 353]\n",
    "HUMAN_NAME = \"Homo sapiens (Human)\"\n",
    "identity_scores, key_residues = analyze_against_human(sequences_dict, aligner, HUMAN_NAME, KEY_POSITIONS)\n",
    "print(\"All pairwise alignments complete\")\n"
   ]
  },
  {
   "cell_type": "code",
   "execution_count": 28,
   "metadata": {},
   "outputs": [
    {
     "name": "stdout",
     "output_type": "stream",
     "text": [
      "------------------------------------------------------------\n",
      "Species                        |   Score | Identity (%)\n",
      "------------------------------------------------------------\n",
      "Pan troglodytes (Chimpanzee)   |  4253.0 |       99.01%\n",
      "Callithrix jacchus (Marmoset)  |  3957.0 |       91.68%\n",
      "Felis catus (Cat)              |  3697.0 |       84.63%\n",
      "Canis lupus familiaris (Dog)   |  3639.0 |       83.48%\n",
      "Mustela putorius furo (ferret) |  3629.0 |       82.63%\n",
      "Rousettus aegyptiacus (Bat)    |  3482.0 |       78.88%\n",
      "Manis javanica (Pangolin)      |  3679.0 |       84.84%\n",
      "Sus scrofa (Pig)               |  3567.0 |       81.37%\n",
      "Peromyscus leucopus(Mouse)     |  3633.0 |       83.11%\n",
      "Bos taurus (Cattle)            |  3441.0 |       78.38%\n",
      "Human                          |       - |            -\n",
      "------------------------------------------------------------\n"
     ]
    }
   ],
   "source": [
    "# table 1: alignment scores and identity\n",
    "print(\"-\" * 60)\n",
    "print(f\"{'Species':<30} | {'Score':>7} | {'Identity (%)':>12}\")\n",
    "print(\"-\" * 60)\n",
    "\n",
    "for name, (score, identity) in identity_scores.items():\n",
    "    print(f\"{name:<30} | {score:7.1f} | {identity:11.2f}%\")\n",
    "\n",
    "print(f\"{'Human':<30} | {'-':>7} | {'-':>12}\")\n",
    "print(\"-\" * 60)\n"
   ]
  },
  {
   "cell_type": "markdown",
   "metadata": {},
   "source": [
    "Our finding reveals that the orthologs from the selected species contain the relevant amino acids at positions 31, 35, 38, 82 and 353. These positions are critical for SARS-CoV-2 spike binding. Multiple analyses into these residues have labelled them as hotspots which determines a host's susceptibility to the virus. For example, the study by Liu et. al revealed that mammals with Lys31, Glu35, Asp38, Met82, and Lys353 (matching the human ACE2) were far more likely to serve as effective SARS-CoV-2 receptors. ACE2 from animals like cats, ferrets, hamsters, primates, cattle, and others could bind the spike protein and permit entry of the virus. In contrast, species with substitions at these critical sites tend to be poor hosts. Notably, New World Monkeys were found to be resistant to SARS-CoV-2 infection. \n",
    "\n",
    "### Significance of ACE2 Positions\n",
    "1. **K31**: In human ACE2, K31 forms a salt bridge with Glu35 on the same protein, creating a stable motif. Furthermore, K31 also forms an equivalent hydrogen-bond with Gln493 on the SARS-CoV-2 spike. The **K31–E35** pairing in ACE2 is therefore essential in permitting the entry of the virus, which makes it ripe for the exploitation by SARS-CoV-2. Mutations within these regions drops virus-binding affinity significantly.\n",
    "2. **K353**: This residue located in a loop of ACE2 is also an anchor point. This site forms a a salt bridge with Asp38 in ACE2 and together this stabilizes the binding interface. This position also directly interacts with the virus's receptor-binding domain.\n",
    "3. **M82**: This residue lies in a pocket on ACE2 that interfaces with the viral spike. M82 provides a hydrophobic contact with the spike’s **F486**.\n",
    "\n",
    "[1] Liu, Y., Hu, G., Wang, Y., Ren, W., Zhao, X., Ji, F., Zhu, Y., Feng, F., Gong, M., Ju, X., Zhu, Y., Cai, X., Lan, J., Guo, J., Xie, M., Dong, L., Zhu, Z., Na, J., Wu, J., Lan, X., … Ding, Q. (2021). Functional and genetic analysis of viral receptor ACE2 orthologs reveals a broad potential host range of SARS-CoV-2. Proceedings of the National Academy of Sciences of the United States of America, 118(12), e2025373118. https://doi.org/10.1073/pnas.2025373118"
   ]
  },
  {
   "cell_type": "code",
   "execution_count": 29,
   "metadata": {},
   "outputs": [
    {
     "name": "stdout",
     "output_type": "stream",
     "text": [
      "\n",
      "Key Residues:\n",
      "----------------------------------------------------------------------------------------------------\n",
      "Species                        |  Pos 31 |  Pos 35 |  Pos 38 |  Pos 41 |  Pos 42 |  Pos 82 | Pos 353\n",
      "----------------------------------------------------------------------------------------------------\n",
      "Pan troglodytes (Chimpanzee)   |       K |       E |       D |       Y |       Q |       M |       K\n",
      "Callithrix jacchus (Marmoset)  |       K |       E |       D |       H |       E |       T |       K\n",
      "Felis catus (Cat)              |       K |       E |       E |       Y |       Q |       T |       K\n",
      "Canis lupus familiaris (Dog)   |       K |       E |       E |       Y |       Q |       T |       K\n",
      "Mustela putorius furo (ferret) |       K |       E |       E |       Y |       Q |       T |       K\n",
      "Rousettus aegyptiacus (Bat)    |       K |       E |       D |       Y |       Q |       T |       K\n",
      "Manis javanica (Pangolin)      |       K |       E |       E |       Y |       Q |       N |       K\n",
      "Sus scrofa (Pig)               |       K |       E |       D |       Y |       Q |       T |       K\n",
      "Peromyscus leucopus(Mouse)     |       K |       E |       D |       Y |       Q |       N |       K\n",
      "Bos taurus (Cattle)            |       K |       E |       D |       Y |       Q |       T |       K\n",
      "Human                          |       K |       E |       L |       Y |       Q |       M |       K\n",
      "----------------------------------------------------------------------------------------------------\n",
      "\n",
      "Discussion Point: For example, Y41 and Q42 in human ACE2 are responsible for the formation of hydrogen bonds with S protein and are highly conserved \n",
      "across all other species [to paraphrase].\n",
      "\n",
      "Note the residues for Marmoset (H, E) at positions 41 and 42, which differ from the Human (Y, Q), as highlighted in the PNAS paper.\n"
     ]
    }
   ],
   "source": [
    "human_record = sequences_dict[HUMAN_NAME]\n",
    "\n",
    "print(\"\\nKey Residues:\")\n",
    "print(\"-\" *100)\n",
    "print(f\"{'Species':<30} | {'Pos 31':>7} | {'Pos 35':>7} | {'Pos 38':>7} | {'Pos 41':>7} | {'Pos 42':>7} | {'Pos 82':>7} | {'Pos 353':>7}\")\n",
    "print(\"-\" * 100)\n",
    "\n",
    "for name, residues in key_residues.items():\n",
    "    print(f\"{name:<30}\"\n",
    "          + \"\".join(f\" | {residues.get(pos, '-'):>7}\" for pos in [31, 35, 38, 41, 42, 82, 353]))\n",
    "\n",
    "print(f\"{'Human':<30}\"\n",
    "      + f\" | {human_record.seq[30]:>7} | {human_record.seq[34]:>7} | {human_record.seq[38]:>7} | {human_record.seq[40]:>7}\"\n",
    "      + f\" | {human_record.seq[41]:>7} | {human_record.seq[81]:>7} | {human_record.seq[352]:>7}\")\n",
    "print(\"-\" * 100)\n",
    "\n",
    "print(\"\\nDiscussion Point: For example, Y41 and Q42 in human ACE2 are responsible for the formation of hydrogen bonds with S protein and are highly conserved \"\n",
    "      \"\\nacross all other species [to paraphrase].\")\n",
    "print(\"\\nNote the residues for Marmoset (H, E) at positions 41 and 42, which differ from the Human (Y, Q), as highlighted in the PNAS paper.\")"
   ]
  },
  {
   "cell_type": "markdown",
   "metadata": {},
   "source": [
    "## p-distance\n",
    "\n",
    "As in the case for nucleotide sequences, the p-distance is merely the proportion of different amino acids between two sequences compared. Therefore, the statistical properties of this distance are the same as those of the p-distance for nucleotide sequence data.\n",
    "\n",
    "$$\n",
    "p = n_d/n\n",
    "$$\n",
    "\n",
    "$$\n",
    "V(p) = p(1 - p)/n\n",
    "$$\n",
    "\n",
    "Here n$_d$ and n are the number of amino acid differences and the total number of amino acids compared, respectively."
   ]
  },
  {
   "cell_type": "code",
   "execution_count": 32,
   "metadata": {},
   "outputs": [],
   "source": [
    "def compute_p_distance(seq1, seq2):\n",
    "    mismatches = 0\n",
    "    aligned_len_no_gaps = 0\n",
    "    for i in range(len(seq1)):\n",
    "        if seq1[i] != '-' and seq2[i] != '-':\n",
    "            aligned_len_no_gaps += 1\n",
    "            if seq1[i] != seq2[i]:\n",
    "                mismatches += 1\n",
    "    \n",
    "    if aligned_len_no_gaps == 0:\n",
    "        return 0.0\n",
    "\n",
    "    # p-distance is the proportion of non-identical sites\n",
    "    p_dist = mismatches / aligned_len_no_gaps\n",
    "    return p_dist"
   ]
  },
  {
   "cell_type": "code",
   "execution_count": 33,
   "metadata": {},
   "outputs": [],
   "source": [
    "HUMAN_NAME = \"Homo sapiens (Human)\"\n",
    "\n",
    "alignments_dict = {}\n",
    "human_seq = sequences_dict[HUMAN_NAME].seq\n",
    "\n",
    "for name, record in sequences_dict.items():\n",
    "    if name == HUMAN_NAME:\n",
    "        continue\n",
    "    alignment = aligner.align(human_seq, record.seq)[0]\n",
    "    alignments_dict[name] = alignment  "
   ]
  },
  {
   "cell_type": "code",
   "execution_count": 34,
   "metadata": {},
   "outputs": [
    {
     "name": "stdout",
     "output_type": "stream",
     "text": [
      "\n",
      "P-distance to Human:\n",
      "------------------------------\n",
      "Species                        | p-distance\n",
      "------------------------------\n",
      "Pan troglodytes (Chimpanzee)   |     0.0099\n",
      "Callithrix jacchus (Marmoset)  |     0.0832\n",
      "Felis catus (Cat)              |     0.1516\n",
      "Canis lupus familiaris (Dog)   |     0.1642\n",
      "Mustela putorius furo (ferret) |     0.1716\n",
      "Rousettus aegyptiacus (Bat)    |     0.2112\n",
      "Manis javanica (Pangolin)      |     0.1516\n",
      "Sus scrofa (Pig)               |     0.1863\n",
      "Peromyscus leucopus(Mouse)     |     0.1689\n",
      "Bos taurus (Cattle)            |     0.2045\n"
     ]
    }
   ],
   "source": [
    "species_names = list(sequences_dict.keys())\n",
    "num_species = len(species_names)\n",
    "\n",
    "print(\"\\nP-distance to Human:\")\n",
    "print(\"-\" * 30)\n",
    "print(f\"{'Species':<30} | {'p-distance':>10}\")\n",
    "print(\"-\" * 30)\n",
    "\n",
    "for species in species_names:\n",
    "    if species == \"Homo sapiens (Human)\":\n",
    "        continue\n",
    "    # aligned sequences from the alignment Human vs species\n",
    "    aligned_human = alignments_dict[species][0]\n",
    "    aligned_other = alignments_dict[species][1]\n",
    "\n",
    "    p_dist = compute_p_distance(aligned_human, aligned_other)\n",
    "    print(f\"{species:<30} | {p_dist:10.4f}\")\n",
    "\n"
   ]
  },
  {
   "cell_type": "markdown",
   "metadata": {},
   "source": [
    "### Poisson-correction distance\n",
    "\n",
    "This distance is for estimating the number of amino acid substitutions per site under the assumption that the number of amino acid substitutions at each site follows the Poisson distribution. This estimator (a) and its variance are given by\n",
    "\n",
    "$$d = -\\log_e(1-p) \\quad (4.50)$$\n",
    "\n",
    "$$V(d) = \\frac{p}{(1-p)n} \\quad (4.51)$$\n",
    "\n",
    "The basic p-distance is simply the proportion of amino acids that differ between two sequences. This assumes that each difference is a single mutation and that sites haven't mutated more than once. However, as sequences diverge more, this assumption breaks down. Which means as evolution happens, some positions might mutate multiple times, which the p-distance cannot detect. This means the p-distance tends to **underestimate** the true evolutionary distance when divergence is high.\n",
    "\n",
    "The **poisson correction** corrects this by assuming that the mutations follow a Poisson process. It provides a better **\"guesstimate\"**, taking into account how many times a mutation has happened over the sequence's lifetime. The poisson-corrected distance is given by $d=-ln(1-p)$m where p is the observed fraction of differences. This formula comes from the Poisson probability of zero changes at a site: if $p$ of sites are changed, then $1–p$ is the fraction unchanged, and $–ln(1–p)$ estimates the average number of substitutions per site. The corrected distance d will always be $\\geq p$, and grows larger than $p$ as $p$ increases. \n",
    "\n",
    "[1] Nei, M. and Zhang, J. (2006). Evolutionary Distance: Estimation. In eLS, John Wiley & Sons, Ltd (Ed.). https://doi.org/10.1038/npg.els.0005108"
   ]
  },
  {
   "cell_type": "code",
   "execution_count": 35,
   "metadata": {},
   "outputs": [],
   "source": [
    "def compute_poisson_distance(seq1, seq2):\n",
    "    p_dist = compute_p_distance(seq1, seq2)\n",
    "    if p_dist >= 1.0:\n",
    "        return float('inf')  # Avoid log(0) or negative values\n",
    "    return -math.log(1 - p_dist)\n"
   ]
  },
  {
   "cell_type": "code",
   "execution_count": 36,
   "metadata": {},
   "outputs": [
    {
     "name": "stdout",
     "output_type": "stream",
     "text": [
      "\n",
      "Poisson corrected distance to Human:\n",
      "------------------------------\n",
      "Species                        | poisson-distance\n",
      "------------------------------\n",
      "Pan troglodytes (Chimpanzee)   |     0.0100\n",
      "Callithrix jacchus (Marmoset)  |     0.0869\n",
      "Felis catus (Cat)              |     0.1643\n",
      "Canis lupus familiaris (Dog)   |     0.1793\n",
      "Mustela putorius furo (ferret) |     0.1883\n",
      "Rousettus aegyptiacus (Bat)    |     0.2372\n",
      "Manis javanica (Pangolin)      |     0.1643\n",
      "Sus scrofa (Pig)               |     0.2062\n",
      "Peromyscus leucopus(Mouse)     |     0.1851\n",
      "Bos taurus (Cattle)            |     0.2288\n"
     ]
    }
   ],
   "source": [
    "species_names = list(sequences_dict.keys())\n",
    "num_species = len(species_names)\n",
    "\n",
    "print(\"\\nPoisson corrected distance to Human:\")\n",
    "print(\"-\" * 30)\n",
    "print(f\"{'Species':<30} | {'poisson-distance':>10}\")\n",
    "print(\"-\" * 30)\n",
    "\n",
    "for species in species_names:\n",
    "    if species == \"Homo sapiens (Human)\":\n",
    "        continue\n",
    "    aligned_human = alignments_dict[species][0]\n",
    "    aligned_other = alignments_dict[species][1]\n",
    "\n",
    "    p_dist = compute_poisson_distance(aligned_human, aligned_other)\n",
    "    print(f\"{species:<30} | {p_dist:10.4f}\")\n",
    "\n"
   ]
  },
  {
   "cell_type": "markdown",
   "metadata": {},
   "source": [
    "to do a dendogram, you need pairwise sequence alignment of all-all, not just one species-human"
   ]
  },
  {
   "cell_type": "code",
   "execution_count": 37,
   "metadata": {},
   "outputs": [],
   "source": [
    "distances = np.zeros((num_species, num_species))  # initialize full matrix\n",
    "\n",
    "for i in range(num_species):\n",
    "    for j in range(i):  # only compute for lower triangle\n",
    "        species1 = species_names[i]\n",
    "        species2 = species_names[j]\n",
    "\n",
    "        record1 = sequences_dict[species1]\n",
    "        record2 = sequences_dict[species2]\n",
    "\n",
    "        alignment = aligner.align(record1.seq, record2.seq)[0]\n",
    "        corrected_distance = compute_poisson_distance(alignment[0], alignment[1])\n",
    "\n",
    "        distances[i][j] = corrected_distance\n",
    "        distances[j][i] = corrected_distance  # mirror"
   ]
  },
  {
   "cell_type": "markdown",
   "metadata": {},
   "source": [
    "A->B, B->A"
   ]
  },
  {
   "cell_type": "code",
   "execution_count": 38,
   "metadata": {},
   "outputs": [
    {
     "data": {
      "text/plain": [
       "array([[0.        , 0.0099876 , 0.08689845, 0.16434742, 0.17934093,\n",
       "        0.1883096 , 0.23721728, 0.16434742, 0.20620704, 0.18505822,\n",
       "        0.22877032],\n",
       "       [0.0099876 , 0.        , 0.08825439, 0.16288436, 0.17934093,\n",
       "        0.18381521, 0.23564371, 0.16288436, 0.20620704, 0.18955261,\n",
       "        0.23033895],\n",
       "       [0.08689845, 0.08825439, 0.        , 0.1865541 , 0.20649192,\n",
       "        0.20649192, 0.24989574, 0.1865541 , 0.21849598, 0.18805223,\n",
       "        0.24616207],\n",
       "       [0.16434742, 0.16288436, 0.1865541 , 0.        , 0.10204925,\n",
       "        0.11298092, 0.21540956, 0.13566587, 0.17909695, 0.20039434,\n",
       "        0.21167589],\n",
       "       [0.17934093, 0.17934093, 0.20649192, 0.10204925, 0.        ,\n",
       "        0.10896013, 0.22034895, 0.14013561, 0.19735943, 0.20677758,\n",
       "        0.21351465],\n",
       "       [0.1883096 , 0.18381521, 0.20649192, 0.11298092, 0.10896013,\n",
       "        0.        , 0.20677758, 0.14405687, 0.17612959, 0.20191525,\n",
       "        0.22595649],\n",
       "       [0.23721728, 0.23564371, 0.24989574, 0.21540956, 0.22034895,\n",
       "        0.20677758, 0.        , 0.20620704, 0.22159196, 0.26597325,\n",
       "        0.27201165],\n",
       "       [0.16434742, 0.16288436, 0.1865541 , 0.13566587, 0.14013561,\n",
       "        0.14405687, 0.20620704, 0.        , 0.19105524, 0.18805223,\n",
       "        0.21971622],\n",
       "       [0.20620704, 0.20620704, 0.21849598, 0.17909695, 0.19735943,\n",
       "        0.17612959, 0.22159196, 0.19105524, 0.        , 0.21386991,\n",
       "        0.16207895],\n",
       "       [0.18505822, 0.18955261, 0.18805223, 0.20039434, 0.20677758,\n",
       "        0.20191525, 0.26597325, 0.18805223, 0.21386991, 0.        ,\n",
       "        0.23505965],\n",
       "       [0.22877032, 0.23033895, 0.24616207, 0.21167589, 0.21351465,\n",
       "        0.22595649, 0.27201165, 0.21971622, 0.16207895, 0.23505965,\n",
       "        0.        ]])"
      ]
     },
     "execution_count": 38,
     "metadata": {},
     "output_type": "execute_result"
    }
   ],
   "source": [
    "distances"
   ]
  },
  {
   "cell_type": "markdown",
   "metadata": {},
   "source": [
    "TO DO: NOT SURE IF THIS IS CORRECT\n",
    "Reference https://docs.scipy.org/doc/scipy/reference/generated/scipy.cluster.hierarchy.linkage.html#scipy.cluster.hierarchy.linkage\n",
    "\n",
    "WIKIPEDIA REFERENCE PROVIDED BY DOC:\n",
    "https://en.wikipedia.org/wiki/UPGMA"
   ]
  },
  {
   "cell_type": "code",
   "execution_count": 39,
   "metadata": {},
   "outputs": [],
   "source": [
    "condensed = squareform(distances)"
   ]
  },
  {
   "cell_type": "code",
   "execution_count": 40,
   "metadata": {},
   "outputs": [
    {
     "data": {
      "text/plain": [
       "array([0.0099876 , 0.08689845, 0.16434742, 0.17934093, 0.1883096 ,\n",
       "       0.23721728, 0.16434742, 0.20620704, 0.18505822, 0.22877032,\n",
       "       0.08825439, 0.16288436, 0.17934093, 0.18381521, 0.23564371,\n",
       "       0.16288436, 0.20620704, 0.18955261, 0.23033895, 0.1865541 ,\n",
       "       0.20649192, 0.20649192, 0.24989574, 0.1865541 , 0.21849598,\n",
       "       0.18805223, 0.24616207, 0.10204925, 0.11298092, 0.21540956,\n",
       "       0.13566587, 0.17909695, 0.20039434, 0.21167589, 0.10896013,\n",
       "       0.22034895, 0.14013561, 0.19735943, 0.20677758, 0.21351465,\n",
       "       0.20677758, 0.14405687, 0.17612959, 0.20191525, 0.22595649,\n",
       "       0.20620704, 0.22159196, 0.26597325, 0.27201165, 0.19105524,\n",
       "       0.18805223, 0.21971622, 0.21386991, 0.16207895, 0.23505965])"
      ]
     },
     "execution_count": 40,
     "metadata": {},
     "output_type": "execute_result"
    }
   ],
   "source": [
    "condensed"
   ]
  },
  {
   "cell_type": "code",
   "execution_count": 41,
   "metadata": {},
   "outputs": [
    {
     "data": {
      "image/png": "[encoded data removed]",
      "text/plain": [
       "<Figure size 1000x500 with 1 Axes>"
      ]
     },
     "metadata": {},
     "output_type": "display_data"
    }
   ],
   "source": [
    "linkage_matrix = linkage(condensed, method='average')  # UPGMA\n",
    "\n",
    "# Plot dendrogram\n",
    "plt.figure(figsize=(10, 5))\n",
    "dendrogram(linkage_matrix, labels=species_names, leaf_rotation=90)\n",
    "plt.title(\"Dendrogram from poisson-distance (UPGMA)\")\n",
    "plt.ylabel(\"poisson-distance\")\n",
    "plt.tight_layout()\n",
    "plt.show()\n"
   ]
  }
 ],
 "metadata": {
  "kernelspec": {
   "display_name": "Python 3 (ipykernel)",
   "language": "python",
   "name": "python3"
  },
  "language_info": {
   "codemirror_mode": {
    "name": "ipython",
    "version": 3
   },
   "file_extension": ".py",
   "mimetype": "text/x-python",
   "name": "python",
   "nbconvert_exporter": "python",
   "pygments_lexer": "ipython3",
   "version": "3.13.5"
  }
 },
 "nbformat": 4,
 "nbformat_minor": 4
}
