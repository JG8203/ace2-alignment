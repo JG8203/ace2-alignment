{
 "cells": [
  {
   "cell_type": "markdown",
   "id": "5344bb92-f3b2-41b4-8c8a-cd95bcbadcc3",
   "metadata": {},
   "source": [
    "### The RAAS System"
   ]
  },
  {
   "cell_type": "code",
   "execution_count": 1,
   "id": "3754ea0d-73ed-4794-a512-04c0815ab6a5",
   "metadata": {},
   "outputs": [],
   "source": [
    "import os\n",
    "import math\n",
    "import numpy as np\n",
    "import pathlib\n",
    "\n",
    "from Bio import Entrez\n",
    "from Bio import SeqIO\n",
    "from Bio.Align import PairwiseAligner, substitution_matrices\n",
    "from Bio.Phylo.TreeConstruction import DistanceMatrix, DistanceTreeConstructor\n",
    "from Bio.Phylo import draw, draw_ascii\n",
    "\n",
    "accession_dict = {\n",
    "    \"Human\": \"NP_001358344.1\",\n",
    "    \"Chimpanzee\": \"NP_001008995.1\",\n",
    "    \"Marmoset\": \"F7CNJ6\",\n",
    "    \"Cat\": \"A0A384DV19\",\n",
    "    \"Dog\": \"J9P7Y2\",\n",
    "    \"Ferret\": \"BAE53380.1\",\n",
    "    \"Bat\": \"ADN93472.1\",\n",
    "    \"Pangolin\": \"XP_017505752.1\",\n",
    "    \"Pig\": \"NP_001116542.1\",\n",
    "    \"Mouse\": \"NP_081562.2\",\n",
    "    \"Cattle\": \"Q58DD0\",\n",
    "}"
   ]
  },
  {
   "cell_type": "code",
   "execution_count": 5,
   "id": "26503d6f-da25-4c54-8697-733c29538413",
   "metadata": {},
   "outputs": [
    {
     "name": "stdout",
     "output_type": "stream",
     "text": [
      "Saved fasta file to ace2_orthologs.fasta\n"
     ]
    }
   ],
   "source": [
    "fasta_file = \"ace2_orthologs.fasta\"\n",
    "accession_vals = list(accession_dict.values())\n",
    "\n",
    "# Recommended practice daw na maglagay ng email or sumn but ok\n",
    "try:\n",
    "    handle = Entrez.efetch(db=\"protein\", id=accession_vals, rettype=\"fasta\", retmode=\"text\")\n",
    "    data = handle.read()\n",
    "    handle.close()\n",
    "    pathlib.Path(fasta_file).write_text(data)\n",
    "    print(f\"Saved fasta file to {fasta_file}\")\n",
    "except Exception as e:\n",
    "    print(f\"Errror occured: {e}\")"
   ]
  },
  {
   "cell_type": "code",
   "execution_count": 13,
   "id": "912c8be4-80ac-4558-a24b-4325ae131124",
   "metadata": {},
   "outputs": [
    {
     "name": "stdout",
     "output_type": "stream",
     "text": [
      ">>> Successfully loaded sequences from file. Verification:\n",
      "---------------------------------------------------------\n",
      "  - Human        (NP_001358344.1): 805 amino acids\n",
      "  - Chimpanzee   (NP_001008995.1): 1304 amino acids\n",
      "  - Ferret       (BAE53380.1): 805 amino acids\n",
      "  - Bat          (ADN93472.1): 805 amino acids\n",
      "  - Pangolin     (XP_017505752.1): 805 amino acids\n",
      "  - Pig          (NP_001116542.1): 805 amino acids\n",
      "  - Mouse        (NP_081562.2): 805 amino acids\n",
      "  - Cattle       (Q58DD0): 804 amino acids\n",
      "---------------------------------------------------------\n"
     ]
    }
   ],
   "source": [
    "name_to_record_map = {}\n",
    "try:\n",
    "    with open(fasta_filename, \"r\") as handle:\n",
    "        for record in SeqIO.parse(handle, \"fasta\"):\n",
    "            common_name = None\n",
    "            for name, acc in accession_dict.items():\n",
    "                if acc in record.id:\n",
    "                    common_name = name\n",
    "                    break\n",
    "            if common_name:\n",
    "                record.id = common_name\n",
    "                record.description = f\"{common_name} ACE2\"\n",
    "                name_to_record_map[common_name] = record\n",
    "\n",
    "    print(\">>> Successfully loaded sequences from file. Verification:\")\n",
    "    print(\"---------------------------------------------------------\")\n",
    "    for name, record in name_to_record_map.items():\n",
    "        print(f\"  - {name:<12} ({accession_dict[name]}): {len(record.seq)} amino acids\")\n",
    "    print(\"---------------------------------------------------------\")\n",
    "\n",
    "except FileNotFoundError:\n",
    "    print(f\"\\n!!! Error: The file '{fasta_filename}' was not found. Please run the download step again.\")"
   ]
  },
  {
   "cell_type": "code",
   "execution_count": 15,
   "id": "098b16f7-d03e-4bb4-969a-204ac3816a31",
   "metadata": {},
   "outputs": [
    {
     "name": "stdout",
     "output_type": "stream",
     "text": [
      "Computing all-vs-all distance matrix for 8 species...\n"
     ]
    },
    {
     "ename": "ValueError",
     "evalue": "'matrix' should be in lower triangle format",
     "output_type": "error",
     "traceback": [
      "\u001b[31m---------------------------------------------------------------------------\u001b[39m",
      "\u001b[31mValueError\u001b[39m                                Traceback (most recent call last)",
      "\u001b[36mCell\u001b[39m\u001b[36m \u001b[39m\u001b[32mIn[15]\u001b[39m\u001b[32m, line 64\u001b[39m\n\u001b[32m     61\u001b[39m     distance_matrix_data.append(row)\n\u001b[32m     63\u001b[39m \u001b[38;5;66;03m# This is the line that caused the error. Now it should work correctly.\u001b[39;00m\n\u001b[32m---> \u001b[39m\u001b[32m64\u001b[39m distance_matrix = \u001b[43mDistanceMatrix\u001b[49m\u001b[43m(\u001b[49m\u001b[43mnames\u001b[49m\u001b[43m=\u001b[49m\u001b[43mspecies_names\u001b[49m\u001b[43m,\u001b[49m\u001b[43m \u001b[49m\u001b[43mmatrix\u001b[49m\u001b[43m=\u001b[49m\u001b[43mdistance_matrix_data\u001b[49m\u001b[43m)\u001b[49m\n\u001b[32m     66\u001b[39m \u001b[38;5;28mprint\u001b[39m(\u001b[33m\"\u001b[39m\u001b[33mDone.\u001b[39m\u001b[38;5;130;01m\\n\u001b[39;00m\u001b[33m\"\u001b[39m)\n\u001b[32m     67\u001b[39m \u001b[38;5;28mprint\u001b[39m(\u001b[33m\"\u001b[39m\u001b[33mPoisson Corrected Distance Matrix:\u001b[39m\u001b[33m\"\u001b[39m)\n",
      "\u001b[36mFile \u001b[39m\u001b[32m~/.cache/pypoetry/virtualenvs/ace2-alignment-UFAqmxsI-py3.13/lib/python3.13/site-packages/Bio/Phylo/TreeConstruction.py:322\u001b[39m, in \u001b[36mDistanceMatrix.__init__\u001b[39m\u001b[34m(self, names, matrix)\u001b[39m\n\u001b[32m    320\u001b[39m \u001b[38;5;28;01mdef\u001b[39;00m\u001b[38;5;250m \u001b[39m\u001b[34m__init__\u001b[39m(\u001b[38;5;28mself\u001b[39m, names, matrix=\u001b[38;5;28;01mNone\u001b[39;00m):\n\u001b[32m    321\u001b[39m \u001b[38;5;250m    \u001b[39m\u001b[33;03m\"\"\"Initialize the class.\"\"\"\u001b[39;00m\n\u001b[32m--> \u001b[39m\u001b[32m322\u001b[39m     \u001b[43m_Matrix\u001b[49m\u001b[43m.\u001b[49m\u001b[34;43m__init__\u001b[39;49m\u001b[43m(\u001b[49m\u001b[38;5;28;43mself\u001b[39;49m\u001b[43m,\u001b[49m\u001b[43m \u001b[49m\u001b[43mnames\u001b[49m\u001b[43m,\u001b[49m\u001b[43m \u001b[49m\u001b[43mmatrix\u001b[49m\u001b[43m)\u001b[49m\n\u001b[32m    323\u001b[39m     \u001b[38;5;28mself\u001b[39m._set_zero_diagonal()\n",
      "\u001b[36mFile \u001b[39m\u001b[32m~/.cache/pypoetry/virtualenvs/ace2-alignment-UFAqmxsI-py3.13/lib/python3.13/site-packages/Bio/Phylo/TreeConstruction.py:121\u001b[39m, in \u001b[36m_Matrix.__init__\u001b[39m\u001b[34m(self, names, matrix)\u001b[39m\n\u001b[32m    119\u001b[39m         \u001b[38;5;28mself\u001b[39m.matrix = matrix\n\u001b[32m    120\u001b[39m     \u001b[38;5;28;01melse\u001b[39;00m:\n\u001b[32m--> \u001b[39m\u001b[32m121\u001b[39m         \u001b[38;5;28;01mraise\u001b[39;00m \u001b[38;5;167;01mValueError\u001b[39;00m(\u001b[33m\"\u001b[39m\u001b[33m'\u001b[39m\u001b[33mmatrix\u001b[39m\u001b[33m'\u001b[39m\u001b[33m should be in lower triangle format\u001b[39m\u001b[33m\"\u001b[39m)\n\u001b[32m    122\u001b[39m \u001b[38;5;28;01melse\u001b[39;00m:\n\u001b[32m    123\u001b[39m     \u001b[38;5;28;01mraise\u001b[39;00m \u001b[38;5;167;01mValueError\u001b[39;00m(\u001b[33m\"\u001b[39m\u001b[33m'\u001b[39m\u001b[33mnames\u001b[39m\u001b[33m'\u001b[39m\u001b[33m and \u001b[39m\u001b[33m'\u001b[39m\u001b[33mmatrix\u001b[39m\u001b[33m'\u001b[39m\u001b[33m should be the same size\u001b[39m\u001b[33m\"\u001b[39m)\n",
      "\u001b[31mValueError\u001b[39m: 'matrix' should be in lower triangle format"
     ]
    }
   ],
   "source": [
    "# 4. Pairwise Global Alignment and Distance Calculation\n",
    "aligner = PairwiseAligner()\n",
    "aligner.mode = 'global'\n",
    "aligner.substitution_matrix = substitution_matrices.load(\"BLOSUM62\")\n",
    "aligner.open_gap_score = -10\n",
    "aligner.extend_gap_score = -0.5\n",
    "\n",
    "def calculate_poisson_distance(aligned_seq1, aligned_seq2):\n",
    "    \"\"\"Calculates Poisson distance from two aligned sequences, ignoring gaps.\"\"\"\n",
    "    mismatches = 0\n",
    "    aligned_len_no_gaps = 0\n",
    "    for i in range(len(aligned_seq1)):\n",
    "        if aligned_seq1[i] != '-' and aligned_seq2[i] != '-':\n",
    "            aligned_len_no_gaps += 1\n",
    "            if aligned_seq1[i] != aligned_seq2[i]:\n",
    "                mismatches += 1\n",
    "    \n",
    "    if aligned_len_no_gaps == 0:\n",
    "        return 0.0\n",
    "\n",
    "    # p-distance is the proportion of non-identical sites\n",
    "    p_dist = mismatches / aligned_len_no_gaps\n",
    "    \n",
    "    # Avoid a math domain error if sequences are 100% different\n",
    "    if p_dist >= 1.0:\n",
    "        return float('inf')\n",
    "    # Avoid taking the log of 1 if sequences are identical\n",
    "    elif p_dist == 0.0:\n",
    "        return 0.0\n",
    "    else:\n",
    "        # Poisson correction formula\n",
    "        return -math.log(1.0 - p_dist)\n",
    "\n",
    "species_names = list(name_to_record_map.keys())\n",
    "num_species = len(species_names)\n",
    "distance_matrix_data = []\n",
    "\n",
    "print(f\"Computing all-vs-all distance matrix for {num_species} species...\")\n",
    "\n",
    "# Iterate through the species to build the lower-triangular matrix\n",
    "for i in range(num_species):\n",
    "    row = []\n",
    "    for j in range(i):\n",
    "        species1_name = species_names[i]\n",
    "        species2_name = species_names[j]\n",
    "        \n",
    "        # A print statement to show progress and help debug if needed\n",
    "        # print(f\"  Aligning {species1_name} vs {species2_name}...\")\n",
    "\n",
    "        record1 = name_to_record_map[species1_name]\n",
    "        record2 = name_to_record_map[species2_name]\n",
    "        \n",
    "        # Perform alignment and get the single best alignment\n",
    "        alignment = aligner.align(record1.seq, record2.seq)[0]\n",
    "        \n",
    "        # Calculate distance and add it to the current row\n",
    "        poisson_dist = calculate_poisson_distance(alignment[0], alignment[1])\n",
    "        row.append(poisson_dist)\n",
    "        \n",
    "    # Append the completed row to the matrix. The length of 'row' will be 'i'.\n",
    "    distance_matrix_data.append(row)\n",
    "\n",
    "# This is the line that caused the error. Now it should work correctly.\n",
    "distance_matrix = DistanceMatrix(names=species_names, matrix=distance_matrix_data)\n",
    "\n",
    "print(\"Done.\\n\")\n",
    "print(\"Poisson Corrected Distance Matrix:\")\n",
    "print(distance_matrix)"
   ]
  },
  {
   "cell_type": "code",
   "execution_count": 7,
   "id": "ffe6a3ad-d41b-4b05-8aed-81c625066010",
   "metadata": {},
   "outputs": [
    {
     "name": "stdout",
     "output_type": "stream",
     "text": [
      ">>> Performing pairwise alignments against Human ACE2 and analyzing key residues...\n",
      "----------------------------------------------------------------------\n",
      "Species      | Accession          |   Score | Identity (%) |  Pos 41 |  Pos 42\n",
      "----------------------------------------------------------------------\n",
      "Chimpanzee   | NP_001008995.1     |  1152.0 |       24.36% |    F    |    Q   \n",
      "Ferret       | BAE53380.1         |  3628.0 |       82.61% |    Y    |    Q   \n",
      "Bat          | ADN93472.1         |  3515.0 |       80.12% |    H    |    Q   \n",
      "Pangolin     | XP_017505752.1     |  3679.0 |       84.84% |    Y    |    Q   \n",
      "Pig          | NP_001116542.1     |  3567.0 |       81.37% |    Y    |    Q   \n",
      "Mouse        | NP_081562.2        |  3579.0 |       82.11% |    Y    |    Q   \n"
     ]
    },
    {
     "ename": "IndexError",
     "evalue": "list index out of range",
     "output_type": "error",
     "traceback": [
      "\u001b[31m---------------------------------------------------------------------------\u001b[39m",
      "\u001b[31mIndexError\u001b[39m                                Traceback (most recent call last)",
      "\u001b[36mCell\u001b[39m\u001b[36m \u001b[39m\u001b[32mIn[7]\u001b[39m\u001b[32m, line 48\u001b[39m\n\u001b[32m     45\u001b[39m other_res_42 = other_aligned_seq[aligned_idx_42]\n\u001b[32m     47\u001b[39m \u001b[38;5;66;03m# Get the common name for display\u001b[39;00m\n\u001b[32m---> \u001b[39m\u001b[32m48\u001b[39m common_name = \u001b[43m[\u001b[49m\u001b[43mname\u001b[49m\u001b[43m \u001b[49m\u001b[38;5;28;43;01mfor\u001b[39;49;00m\u001b[43m \u001b[49m\u001b[43mname\u001b[49m\u001b[43m,\u001b[49m\u001b[43m \u001b[49m\u001b[43macc\u001b[49m\u001b[43m \u001b[49m\u001b[38;5;129;43;01min\u001b[39;49;00m\u001b[43m \u001b[49m\u001b[43maccession_dict\u001b[49m\u001b[43m.\u001b[49m\u001b[43mitems\u001b[49m\u001b[43m(\u001b[49m\u001b[43m)\u001b[49m\u001b[43m \u001b[49m\u001b[38;5;28;43;01mif\u001b[39;49;00m\u001b[43m \u001b[49m\u001b[43macc\u001b[49m\u001b[43m \u001b[49m\u001b[43m==\u001b[49m\u001b[43m \u001b[49m\u001b[43maccession\u001b[49m\u001b[43m]\u001b[49m\u001b[43m[\u001b[49m\u001b[32;43m0\u001b[39;49m\u001b[43m]\u001b[49m\n\u001b[32m     50\u001b[39m \u001b[38;5;66;03m# Print the summary row\u001b[39;00m\n\u001b[32m     51\u001b[39m \u001b[38;5;28mprint\u001b[39m(\u001b[33mf\u001b[39m\u001b[33m\"\u001b[39m\u001b[38;5;132;01m{\u001b[39;00mcommon_name\u001b[38;5;132;01m:\u001b[39;00m\u001b[33m<12\u001b[39m\u001b[38;5;132;01m}\u001b[39;00m\u001b[33m | \u001b[39m\u001b[38;5;132;01m{\u001b[39;00maccession\u001b[38;5;132;01m:\u001b[39;00m\u001b[33m<18\u001b[39m\u001b[38;5;132;01m}\u001b[39;00m\u001b[33m | \u001b[39m\u001b[38;5;132;01m{\u001b[39;00malignment.score\u001b[38;5;132;01m:\u001b[39;00m\u001b[33m7.1f\u001b[39m\u001b[38;5;132;01m}\u001b[39;00m\u001b[33m | \u001b[39m\u001b[38;5;132;01m{\u001b[39;00mpercent_identity\u001b[38;5;132;01m:\u001b[39;00m\u001b[33m11.2f\u001b[39m\u001b[38;5;132;01m}\u001b[39;00m\u001b[33m% | \u001b[39m\u001b[38;5;132;01m{\u001b[39;00mother_res_41\u001b[38;5;132;01m:\u001b[39;00m\u001b[33m^7\u001b[39m\u001b[38;5;132;01m}\u001b[39;00m\u001b[33m | \u001b[39m\u001b[38;5;132;01m{\u001b[39;00mother_res_42\u001b[38;5;132;01m:\u001b[39;00m\u001b[33m^7\u001b[39m\u001b[38;5;132;01m}\u001b[39;00m\u001b[33m\"\u001b[39m)\n",
      "\u001b[31mIndexError\u001b[39m: list index out of range"
     ]
    }
   ],
   "source": [
    "# --- Step 5: Align Sequences and Analyze Key Residues ---\n",
    "print(\">>> Performing pairwise alignments against Human ACE2 and analyzing key residues...\")\n",
    "print(\"-\" * 70)\n",
    "print(f\"{'Species':<12} | {'Accession':<18} | {'Score':>7} | {'Identity (%)':>12} | {'Pos 41':>7} | {'Pos 42':>7}\")\n",
    "print(\"-\" * 70)\n",
    "\n",
    "# Store alignments for later use\n",
    "alignments_dict = {}\n",
    "\n",
    "# The key positions are 1-based, Python is 0-based.\n",
    "# Position 41 in biology is index 40 in Python.\n",
    "pos_41_index = 40\n",
    "pos_42_index = 41\n",
    "\n",
    "for accession, record in sequences_dict.items():\n",
    "    if accession == human_accession:\n",
    "        continue # Skip aligning human to itself\n",
    "\n",
    "    # Perform the global alignment\n",
    "    # We take the first alignment, which is the one with the optimal score.\n",
    "    alignment = aligner.align(human_record.seq, record.seq)[0]\n",
    "    alignments_dict[accession] = alignment\n",
    "\n",
    "    # Calculate percent identity\n",
    "    # (Number of identical sites) / (Length of alignment)\n",
    "    identity = (np.array(list(alignment[0])) == np.array(list(alignment[1]))).sum()\n",
    "    percent_identity = (identity / alignment.shape[1]) * 100\n",
    "\n",
    "    # Find the corresponding residues at key positions\n",
    "    # We need to map the original sequence index to the alignment index\n",
    "    human_aligned_seq = alignment[0]\n",
    "    other_aligned_seq = alignment[1]\n",
    "    \n",
    "    # This finds the index in the alignment that corresponds to the original ungapped index\n",
    "    map_human_to_alignment = [i for i, char in enumerate(human_aligned_seq) if char != '-']\n",
    "    \n",
    "    # Get the characters at the key positions in the alignment\n",
    "    aligned_idx_41 = map_human_to_alignment[pos_41_index]\n",
    "    aligned_idx_42 = map_human_to_alignment[pos_42_index]\n",
    "    \n",
    "    human_res_41 = human_aligned_seq[aligned_idx_41]\n",
    "    other_res_41 = other_aligned_seq[aligned_idx_41]\n",
    "    \n",
    "    human_res_42 = human_aligned_seq[aligned_idx_42]\n",
    "    other_res_42 = other_aligned_seq[aligned_idx_42]\n",
    "\n",
    "    # Get the common name for display\n",
    "    common_name = [name for name, acc in accession_dict.items() if acc == accession][0]\n",
    "    \n",
    "    # Print the summary row\n",
    "    print(f\"{common_name:<12} | {accession:<18} | {alignment.score:7.1f} | {percent_identity:11.2f}% | {other_res_41:^7} | {other_res_42:^7}\")\n",
    "\n",
    "print(\"-\" * 70)\n",
    "print(\"\\nDiscussion Point: Note the residues for Marmoset (H, E) at positions 41 and 42,\")\n",
    "print(\"which differ from the Human (Y, Q), as highlighted in the PNAS paper.\")\n",
    "# You can print a full alignment to inspect it\n",
    "print(\"\\nExample alignment (Human vs. Marmoset):\")\n",
    "print(alignments_dict[accession_dict[\"Marmoset\"]])"
   ]
  }
 ],
 "metadata": {
  "kernelspec": {
   "display_name": "Python 3",
   "language": "python",
   "name": "python3"
  },
  "language_info": {
   "codemirror_mode": {
    "name": "ipython",
    "version": 3
   },
   "file_extension": ".py",
   "mimetype": "text/x-python",
   "name": "python",
   "nbconvert_exporter": "python",
   "pygments_lexer": "ipython3",
   "version": "3.12.3"
  }
 },
 "nbformat": 4,
 "nbformat_minor": 5
}
